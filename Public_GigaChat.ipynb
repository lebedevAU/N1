{
  "cells": [
    {
      "cell_type": "markdown",
      "metadata": {
        "id": "view-in-github",
        "colab_type": "text"
      },
      "source": [
        "<a href=\"https://colab.research.google.com/github/lebedevAU/N1/blob/main/Public_GigaChat.ipynb\" target=\"_parent\"><img src=\"https://colab.research.google.com/assets/colab-badge.svg\" alt=\"Open In Colab\"/></a>"
      ]
    },
    {
      "cell_type": "markdown",
      "metadata": {
        "id": "BEsBaWcWMllT"
      },
      "source": [
        "[Perceptron.press](https://Perceptron.press) - нейро-ништяки в colab!!!\n",
        "\n",
        "Приветсвую, юный нейронщик!!! Тут не большой код для использования GigaChat от Сбера. Сбер зает бесплатно 1000 токенов любому пользователю со СберId в месяц."
      ]
    },
    {
      "cell_type": "code",
      "execution_count": null,
      "metadata": {
        "colab": {
          "base_uri": "https://localhost:8080/"
        },
        "id": "Lyoc5x5HMjdX",
        "outputId": "f7d16dc6-ea5d-4fbc-d4d3-6a7bf69e8468"
      },
      "outputs": [
        {
          "output_type": "stream",
          "name": "stdout",
          "text": [
            "Requirement already satisfied: gigachat in /usr/local/lib/python3.10/dist-packages (0.1.8)\n",
            "Requirement already satisfied: httpx<1 in /usr/local/lib/python3.10/dist-packages (from gigachat) (0.25.2)\n",
            "Requirement already satisfied: pydantic<3,>=1 in /usr/local/lib/python3.10/dist-packages (from gigachat) (1.10.13)\n",
            "Requirement already satisfied: anyio in /usr/local/lib/python3.10/dist-packages (from httpx<1->gigachat) (3.7.1)\n",
            "Requirement already satisfied: certifi in /usr/local/lib/python3.10/dist-packages (from httpx<1->gigachat) (2023.7.22)\n",
            "Requirement already satisfied: httpcore==1.* in /usr/local/lib/python3.10/dist-packages (from httpx<1->gigachat) (1.0.2)\n",
            "Requirement already satisfied: idna in /usr/local/lib/python3.10/dist-packages (from httpx<1->gigachat) (3.4)\n",
            "Requirement already satisfied: sniffio in /usr/local/lib/python3.10/dist-packages (from httpx<1->gigachat) (1.3.0)\n",
            "Requirement already satisfied: h11<0.15,>=0.13 in /usr/local/lib/python3.10/dist-packages (from httpcore==1.*->httpx<1->gigachat) (0.14.0)\n",
            "Requirement already satisfied: typing-extensions>=4.2.0 in /usr/local/lib/python3.10/dist-packages (from pydantic<3,>=1->gigachat) (4.5.0)\n",
            "Requirement already satisfied: exceptiongroup in /usr/local/lib/python3.10/dist-packages (from anyio->httpx<1->gigachat) (1.1.3)\n"
          ]
        }
      ],
      "source": [
        "!pip install gigachat"
      ]
    },
    {
      "cell_type": "markdown",
      "source": [
        "Большой привет МИНСВЯЗИ!!!"
      ],
      "metadata": {
        "id": "-uP5-NdabUUt"
      }
    },
    {
      "cell_type": "code",
      "execution_count": null,
      "metadata": {
        "colab": {
          "base_uri": "https://localhost:8080/"
        },
        "id": "D50pfVwOUO1T",
        "outputId": "e99c555d-d798-4514-f900-3cbeddea92cc"
      },
      "outputs": [
        {
          "output_type": "stream",
          "name": "stdout",
          "text": [
            "  % Total    % Received % Xferd  Average Speed   Time    Time     Time  Current\n",
            "                                 Dload  Upload   Total   Spent    Left  Speed\n",
            "100  2088    0  2088    0     0   1259      0 --:--:--  0:00:01 --:--:--  1260\n"
          ]
        }
      ],
      "source": [
        "!curl -k \"https://gu-st.ru/content/Other/doc/russian_trusted_root_ca.cer\" -w \"\\n\" >> $(python -m certifi)"
      ]
    },
    {
      "cell_type": "code",
      "execution_count": 1,
      "metadata": {
        "id": "lydmhlOVVjUL",
        "colab": {
          "base_uri": "https://localhost:8080/",
          "height": 173
        },
        "outputId": "c45f65b0-0d61-4195-de7e-e4c3ed2fbac2"
      },
      "outputs": [
        {
          "output_type": "error",
          "ename": "NameError",
          "evalue": "name 'GigaChat' is not defined",
          "traceback": [
            "\u001b[0;31m---------------------------------------------------------------------------\u001b[0m",
            "\u001b[0;31mNameError\u001b[0m                                 Traceback (most recent call last)",
            "\u001b[0;32m<ipython-input-1-498f3d66f7a5>\u001b[0m in \u001b[0;36m<cell line: 1>\u001b[0;34m()\u001b[0m\n\u001b[0;32m----> 1\u001b[0;31m \u001b[0mgiga\u001b[0m \u001b[0;34m=\u001b[0m \u001b[0mGigaChat\u001b[0m\u001b[0;34m(\u001b[0m\u001b[0mcredentials\u001b[0m\u001b[0;34m=\u001b[0m\u001b[0;34m'###############'\u001b[0m\u001b[0;34m,\u001b[0m \u001b[0mscope\u001b[0m\u001b[0;34m=\u001b[0m\u001b[0;34m'GIGACHAT_API_PERS'\u001b[0m\u001b[0;34m)\u001b[0m\u001b[0;34m\u001b[0m\u001b[0;34m\u001b[0m\u001b[0m\n\u001b[0m\u001b[1;32m      2\u001b[0m \u001b[0mgiga\u001b[0m \u001b[0;34m=\u001b[0m \u001b[0mGigaChat\u001b[0m\u001b[0;34m(\u001b[0m\u001b[0mverify_ssl_certs\u001b[0m\u001b[0;34m=\u001b[0m\u001b[0;32mFalse\u001b[0m\u001b[0;34m)\u001b[0m\u001b[0;34m\u001b[0m\u001b[0;34m\u001b[0m\u001b[0m\n",
            "\u001b[0;31mNameError\u001b[0m: name 'GigaChat' is not defined"
          ]
        }
      ],
      "source": [
        "giga = GigaChat(credentials='###############', scope='GIGACHAT_API_PERS')\n",
        "giga = GigaChat(verify_ssl_certs=False)"
      ]
    },
    {
      "cell_type": "markdown",
      "source": [
        "Получаем первый токен для теста ключа"
      ],
      "metadata": {
        "id": "vz8ymBlcfQ-W"
      }
    },
    {
      "cell_type": "code",
      "execution_count": null,
      "metadata": {
        "id": "bh1rjkmLUu1j"
      },
      "outputs": [],
      "source": [
        "!curl --location --request POST 'https://ngw.devices.sberbank.ru:9443/api/v2/oauth' \\\n",
        "--header 'Authorization: Bearer ..ZQ==' \\ #GigaKey\n",
        "--header 'RqUID: 6f0b1291-c7f3-43c6-bb2e-9f3efb2dc98e' \\\n",
        "--header 'Content-Type: application/x-www-form-urlencoded' \\\n",
        "--data-urlencode 'scope=GIGACHAT_API_PERS' \\\n",
        "--insecure\n"
      ]
    },
    {
      "cell_type": "markdown",
      "source": [
        "# Общаемся в режиме чата"
      ],
      "metadata": {
        "id": "SZv4EHdZfnY7"
      }
    },
    {
      "cell_type": "code",
      "execution_count": null,
      "metadata": {
        "id": "asP9oSmSX3sk"
      },
      "outputs": [],
      "source": [
        "AUTHORIZATION = '...ZQ==' #GigaKey\n",
        "RqUID = '6f0b1291-c7f3-43c6-bb2e-9f3efb2d'\n",
        "\n",
        "# NzRmNmI1NTAtYmFkYi00OTFlLTgyNGYtNzE1NjVlMjJmMzc4OjViOWQ2YjE4LTk5ZWYtNDdjZS04NDg3LWYyNmE0YzBlYzhiZQ==\n",
        "# Автаризационный данные\n",
        "# 5b9d6b18-99ef-47ce-8487-f26a4c0e\n",
        "# client secret"
      ]
    },
    {
      "cell_type": "code",
      "execution_count": null,
      "metadata": {
        "id": "pctvnOuCXT3F"
      },
      "outputs": [],
      "source": [
        "import requests\n",
        "import re"
      ]
    },
    {
      "cell_type": "code",
      "source": [
        "  def load_prompt(url):\n",
        "    # Extract the document ID from the URL\n",
        "    match_ = re.search('/document/d/([a-zA-Z0-9-_]+)', url)\n",
        "    if match_ is None:\n",
        "        raise ValueError('Invalid Google Docs URL')\n",
        "    doc_id = match_.group(1)\n",
        "\n",
        "    # Download the document as plain text\n",
        "    response = requests.get(f'https://docs.google.com/document/d/{doc_id}/export?format=txt')\n",
        "    response.raise_for_status()\n",
        "    text = response.text\n",
        "    return f'{text}'"
      ],
      "metadata": {
        "id": "p4_9Uxx17jSD"
      },
      "execution_count": null,
      "outputs": []
    },
    {
      "cell_type": "code",
      "source": [
        "gigaSystem = load_prompt('https://docs.google.com/document/d/1UcXvbMP2snwZ0385fqEmGv0vTzAC7Bs-1aIcsjrMcV8/edit?usp=sharing')"
      ],
      "metadata": {
        "id": "jxfeEiCR7kvo"
      },
      "execution_count": null,
      "outputs": []
    },
    {
      "cell_type": "code",
      "execution_count": null,
      "metadata": {
        "colab": {
          "base_uri": "https://localhost:8080/"
        },
        "id": "VfOUU1mXUZak",
        "outputId": "5d2c3ba6-ca9c-4fb2-e8c4-84cb45c6ee82"
      },
      "outputs": [
        {
          "output_type": "stream",
          "name": "stdout",
          "text": [
            "Стоимость обращения в суд зависит от многих факторов, таких как тип суда, количество участников процесса, сложность дела и другие факторы. Однако, в среднем стоимость обращения в суд составляет от 50 000 до 150 000 рублей. Точная стоимость будет определена после изучения документов и определения сложности дела.\n"
          ]
        }
      ],
      "source": [
        "\n",
        "\"\"\"Пример вопрос - ответ\"\"\"\n",
        "from gigachat import GigaChat\n",
        "\n",
        "# Используйте токен, полученный в личном кабинете из поля Авторизационные данные\n",
        "with GigaChat(credentials='...ZQ==', verify_ssl_certs=False) as giga: #GigaKey\n",
        "    response = giga.chat(gigaSystem +\"User:\" + \"Скольок стоит обратиться в суд?\")\n",
        "    print(response.choices[0].message.content)"
      ]
    },
    {
      "cell_type": "markdown",
      "source": [
        "#Диалог с GigaChain"
      ],
      "metadata": {
        "id": "M_KGnJoHc207"
      }
    },
    {
      "cell_type": "code",
      "source": [
        "from langchain.schema import HumanMessage, SystemMessage\n",
        "from langchain.chat_models.gigachat import GigaChat\n",
        "\n",
        "def Answer(system, topic):\n",
        "\n",
        "#\"\"\"Пример работы с чатом через gigachain\"\"\"\n",
        "    # Авторизация в сервисе GigaChat\n",
        "    chat = GigaChat(credentials=\"...Q==\", verify_ssl_certs=False)\n",
        "\n",
        "    messages = [\n",
        "      SystemMessage(\n",
        "        content=gigaSystem\n",
        "      )\n",
        "    ]\n",
        "\n",
        "  #  while(True):\n",
        "    #user_input = input(\"User: \")\n",
        "    messages.append(HumanMessage(content=topic))\n",
        "    res = chat(messages)\n",
        "    messages.append(res)\n",
        "    print(\"Bot: \", res.content)\n",
        "\n",
        "    # messages = [\n",
        "    #   {\"role\": \"system\", \"content\": system},\n",
        "    #   {\"role\": \"user\", \"content\": topic}\n",
        "    #   ]\n",
        "\n",
        "    # completion = openai.ChatCompletion.create(\n",
        "    #   model=\"gpt-3.5-turbo\",\n",
        "    #   messages=messages,\n",
        "    #   temperature=temp\n",
        "    #   )\n",
        "\n",
        "    return res.content\n",
        "print(answer(gigaSystem, \"Здравствуйте!\"))"
      ],
      "metadata": {
        "id": "E4N7e-JTc60C"
      },
      "execution_count": null,
      "outputs": []
    },
    {
      "cell_type": "markdown",
      "source": [
        "# Попытка ООП"
      ],
      "metadata": {
        "id": "ewOUooWxf-Yf"
      }
    },
    {
      "cell_type": "code",
      "execution_count": null,
      "metadata": {
        "id": "eYzjgaqpZ7vU"
      },
      "outputs": [],
      "source": [
        "class GigaChat:\n",
        "\n",
        " def __init__(self, auth, rq):\n",
        "  self.auth = auth\n",
        "  self.rqUID = rq\n",
        "  self.get_token()\n",
        "  self.communication = []\n",
        "\n",
        " def get_token(self):\n",
        "  url = 'https://ngw.devices.sberbank.ru:9443/api/v2/oauth'\n",
        "  headers = {\n",
        "   'Authorization': f'Bearer {self.auth}',\n",
        "   'RqUID': self.rqUID,\n",
        "   'Content-Type': 'application/x-www-form-urlencoded'\n",
        "  }\n",
        "  data = {\n",
        "   'scope': 'GIGACHAT_API_PERS'\n",
        "  }\n",
        "  response = self.get(url, headers, data)\n",
        "  self.access_token = json.loads(response.text)[\"74f6b550-badb-491e-824f-71565e22f378\"]\n",
        " def get(self, url, headers, data, verify=False, json = False):\n",
        "   if json:\n",
        "     return requests.post(url, headers=headers, json=data, verify=verify)\n",
        "   else:\n",
        "     return requests.post(url, headers=headers, data=data, verify=verify)\n",
        "\n",
        "\n",
        " def ask_a_question(self, question, temperature=0.7):\n",
        "     url = \"https://gigachat.devices.sberbank.ru/api/v1/chat/completions\"\n",
        "     headers = {\n",
        "     \"Content-Type\": \"`application/json\",\n",
        "     \"Authorization\": f\"Bearer {self.access_token}\"\n",
        "     }\n",
        "     self.communication.append({\"role\": \"user\", \"content\": question})\n",
        "     data = {\n",
        "     \"model\": \"GigaChat:latest\",\n",
        "     \"messages\": self.communication,\n",
        "     \"temperature\": temperature\n",
        "     }\n",
        "     response = self.get(url, headers, data, json = True).json()\n",
        "     content = response['choices'][0]['message']['content']\n",
        "     self.communication.append({\"role\": \"assistant\", \"content\": content})\n",
        "     return content\n",
        " def reset(self):\n",
        "     self.communication.clear()"
      ]
    },
    {
      "cell_type": "code",
      "execution_count": null,
      "metadata": {
        "id": "5sDiRA5abx2l"
      },
      "outputs": [],
      "source": [
        "chat = GigaChat(AUTHORIZATION, RqUID)\n",
        "while True:\n",
        "  question = input(\"Что бы Вы хотели спросить?\\n\")\n",
        "if question in \"Очистить историю\":\n",
        "  chat.reset()\n",
        "\n",
        "  continue\n",
        "\n",
        "  print(\"Ответ: \", chat.ask_a_question(question))\n"
      ]
    },
    {
      "cell_type": "code",
      "execution_count": null,
      "metadata": {
        "id": "e3Fa2vvxYUPp"
      },
      "outputs": [],
      "source": []
    },
    {
      "cell_type": "markdown",
      "metadata": {
        "id": "j6n1y9HKMrDP"
      },
      "source": [
        "Большой пример"
      ]
    },
    {
      "cell_type": "code",
      "source": [],
      "metadata": {
        "id": "aG-5QgW7gS0g"
      },
      "execution_count": null,
      "outputs": []
    }
  ],
  "metadata": {
    "colab": {
      "provenance": [],
      "authorship_tag": "ABX9TyPp2viJJ+CNKlaCmvzYsxU/",
      "include_colab_link": true
    },
    "kernelspec": {
      "display_name": "Python 3",
      "name": "python3"
    },
    "language_info": {
      "name": "python"
    }
  },
  "nbformat": 4,
  "nbformat_minor": 0
}