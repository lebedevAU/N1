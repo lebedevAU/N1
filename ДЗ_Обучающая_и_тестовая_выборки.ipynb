{
  "nbformat": 4,
  "nbformat_minor": 0,
  "metadata": {
    "colab": {
      "name": "ДЗ Обучающая и тестовая выборки ",
      "provenance": [],
      "collapsed_sections": [
        "6CTlj7a_4JT9"
      ],
      "include_colab_link": true
    },
    "kernelspec": {
      "name": "python3",
      "display_name": "Python 3"
    },
    "accelerator": "GPU"
  },
  "cells": [
    {
      "cell_type": "markdown",
      "metadata": {
        "id": "view-in-github",
        "colab_type": "text"
      },
      "source": [
        "<a href=\"https://colab.research.google.com/github/lebedevAU/N1/blob/main/%D0%94%D0%97_%D0%9E%D0%B1%D1%83%D1%87%D0%B0%D1%8E%D1%89%D0%B0%D1%8F_%D0%B8_%D1%82%D0%B5%D1%81%D1%82%D0%BE%D0%B2%D0%B0%D1%8F_%D0%B2%D1%8B%D0%B1%D0%BE%D1%80%D0%BA%D0%B8.ipynb\" target=\"_parent\"><img src=\"https://colab.research.google.com/assets/colab-badge.svg\" alt=\"Open In Colab\"/></a>"
      ]
    },
    {
      "cell_type": "markdown",
      "metadata": {
        "id": "QBMGknXIWG3M"
      },
      "source": [
        "*Теоретический материал:* https://youtu.be/oPcBGVZ6aSU"
      ]
    },
    {
      "cell_type": "markdown",
      "metadata": {
        "id": "5rr9Uv9q7QHt"
      },
      "source": [
        "Чтобы запускать и редактировать код, сохраните копию этого ноутбука себе (File->Save a copy in Drive...). Свою копию вы сможете изменять и запускать."
      ]
    },
    {
      "cell_type": "markdown",
      "metadata": {
        "id": "Ah7dy1kFL2H9"
      },
      "source": [
        "# Оценка качества обучения нейронной сети в Keras\n",
        "\n",
        "*Разбор данного раздела:* https://youtu.be/ZNVupJXQisM?t=31"
      ]
    },
    {
      "cell_type": "code",
      "metadata": {
        "id": "qrfd6FzSLrE2"
      },
      "source": [
        "from tensorflow.keras.models import Sequential # НС прямого распространения\n",
        "from tensorflow.keras.layers import Dense, Activation, Dropout, BatchNormalization # Основные слои\n",
        "from tensorflow.keras import utils # Утилиты для to_categorical\n",
        "from tensorflow.keras.preprocessing import image # Для отрисовки изображения\n",
        "from tensorflow.keras.optimizers import Adam, Adadelta # Алгоритмы оптимизации, для настройки скорости обучения\n",
        "import numpy as np # Библиотека работы с массивами\n",
        "import matplotlib.pyplot as plt # Отрисовка изображений\n",
        "from PIL import Image # Отрисовка изображений\n",
        "import pandas as pd # Библиотека pandas\n",
        "from google.colab import files # Импорт файлов\n",
        "from sklearn.preprocessing import LabelEncoder, StandardScaler # Функции для нормализации данных\n",
        "from sklearn import preprocessing # Пакет предварительной обработки данных\n",
        "\n",
        "# Отрисовывать изображения в ноутбуке, а не в консоль или файл\n",
        "%matplotlib inline\n"
      ],
      "execution_count": 1,
      "outputs": []
    },
    {
      "cell_type": "markdown",
      "metadata": {
        "id": "5RtenOlDiUMl"
      },
      "source": [
        "##Загрузка файла\n",
        "\n",
        "*Разбор данного раздела:* https://youtu.be/ZNVupJXQisM?t=120"
      ]
    },
    {
      "cell_type": "code",
      "metadata": {
        "id": "5OpTfgGWiSzT"
      },
      "source": [
        "# Загружаем файлы\n",
        "files.upload()\n",
        "!ls # Выводим содержимое корневой папки"
      ],
      "execution_count": null,
      "outputs": []
    },
    {
      "cell_type": "markdown",
      "metadata": {
        "id": "WnVRLr2cZtVW"
      },
      "source": [
        "## Загрузка данных"
      ]
    },
    {
      "cell_type": "code",
      "metadata": {
        "id": "_uO8Fnn3ZsfN",
        "colab": {
          "base_uri": "https://localhost:8080/",
          "height": 241
        },
        "outputId": "0bc01fc5-6417-4a11-db62-9424eda76f59"
      },
      "source": [
        "# Загружаем данные из файла sonar.csv\n",
        "from google.colab import drive\n",
        "drive.mount('/content/drive', force_remount=True)\n",
        "df = pd.read_csv(\"/content/drive/My Drive/sonar.csv\", header=None)   # header=None, когда данные не имеют строки с заголовками\n",
        "df.head()                                    # Выводим первые 5 строк наших данных"
      ],
      "execution_count": 2,
      "outputs": [
        {
          "output_type": "stream",
          "name": "stdout",
          "text": [
            "Mounted at /content/drive\n"
          ]
        },
        {
          "output_type": "execute_result",
          "data": {
            "text/html": [
              "<div>\n",
              "<style scoped>\n",
              "    .dataframe tbody tr th:only-of-type {\n",
              "        vertical-align: middle;\n",
              "    }\n",
              "\n",
              "    .dataframe tbody tr th {\n",
              "        vertical-align: top;\n",
              "    }\n",
              "\n",
              "    .dataframe thead th {\n",
              "        text-align: right;\n",
              "    }\n",
              "</style>\n",
              "<table border=\"1\" class=\"dataframe\">\n",
              "  <thead>\n",
              "    <tr style=\"text-align: right;\">\n",
              "      <th></th>\n",
              "      <th>0</th>\n",
              "      <th>1</th>\n",
              "      <th>2</th>\n",
              "      <th>3</th>\n",
              "      <th>4</th>\n",
              "      <th>5</th>\n",
              "      <th>6</th>\n",
              "      <th>7</th>\n",
              "      <th>8</th>\n",
              "      <th>9</th>\n",
              "      <th>10</th>\n",
              "      <th>11</th>\n",
              "      <th>12</th>\n",
              "      <th>13</th>\n",
              "      <th>14</th>\n",
              "      <th>15</th>\n",
              "      <th>16</th>\n",
              "      <th>17</th>\n",
              "      <th>18</th>\n",
              "      <th>19</th>\n",
              "      <th>20</th>\n",
              "      <th>21</th>\n",
              "      <th>22</th>\n",
              "      <th>23</th>\n",
              "      <th>24</th>\n",
              "      <th>25</th>\n",
              "      <th>26</th>\n",
              "      <th>27</th>\n",
              "      <th>28</th>\n",
              "      <th>29</th>\n",
              "      <th>30</th>\n",
              "      <th>31</th>\n",
              "      <th>32</th>\n",
              "      <th>33</th>\n",
              "      <th>34</th>\n",
              "      <th>35</th>\n",
              "      <th>36</th>\n",
              "      <th>37</th>\n",
              "      <th>38</th>\n",
              "      <th>39</th>\n",
              "      <th>40</th>\n",
              "      <th>41</th>\n",
              "      <th>42</th>\n",
              "      <th>43</th>\n",
              "      <th>44</th>\n",
              "      <th>45</th>\n",
              "      <th>46</th>\n",
              "      <th>47</th>\n",
              "      <th>48</th>\n",
              "      <th>49</th>\n",
              "      <th>50</th>\n",
              "      <th>51</th>\n",
              "      <th>52</th>\n",
              "      <th>53</th>\n",
              "      <th>54</th>\n",
              "      <th>55</th>\n",
              "      <th>56</th>\n",
              "      <th>57</th>\n",
              "      <th>58</th>\n",
              "      <th>59</th>\n",
              "      <th>60</th>\n",
              "    </tr>\n",
              "  </thead>\n",
              "  <tbody>\n",
              "    <tr>\n",
              "      <th>0</th>\n",
              "      <td>0.0200</td>\n",
              "      <td>0.0371</td>\n",
              "      <td>0.0428</td>\n",
              "      <td>0.0207</td>\n",
              "      <td>0.0954</td>\n",
              "      <td>0.0986</td>\n",
              "      <td>0.1539</td>\n",
              "      <td>0.1601</td>\n",
              "      <td>0.3109</td>\n",
              "      <td>0.2111</td>\n",
              "      <td>0.1609</td>\n",
              "      <td>0.1582</td>\n",
              "      <td>0.2238</td>\n",
              "      <td>0.0645</td>\n",
              "      <td>0.0660</td>\n",
              "      <td>0.2273</td>\n",
              "      <td>0.3100</td>\n",
              "      <td>0.2999</td>\n",
              "      <td>0.5078</td>\n",
              "      <td>0.4797</td>\n",
              "      <td>0.5783</td>\n",
              "      <td>0.5071</td>\n",
              "      <td>0.4328</td>\n",
              "      <td>0.5550</td>\n",
              "      <td>0.6711</td>\n",
              "      <td>0.6415</td>\n",
              "      <td>0.7104</td>\n",
              "      <td>0.8080</td>\n",
              "      <td>0.6791</td>\n",
              "      <td>0.3857</td>\n",
              "      <td>0.1307</td>\n",
              "      <td>0.2604</td>\n",
              "      <td>0.5121</td>\n",
              "      <td>0.7547</td>\n",
              "      <td>0.8537</td>\n",
              "      <td>0.8507</td>\n",
              "      <td>0.6692</td>\n",
              "      <td>0.6097</td>\n",
              "      <td>0.4943</td>\n",
              "      <td>0.2744</td>\n",
              "      <td>0.0510</td>\n",
              "      <td>0.2834</td>\n",
              "      <td>0.2825</td>\n",
              "      <td>0.4256</td>\n",
              "      <td>0.2641</td>\n",
              "      <td>0.1386</td>\n",
              "      <td>0.1051</td>\n",
              "      <td>0.1343</td>\n",
              "      <td>0.0383</td>\n",
              "      <td>0.0324</td>\n",
              "      <td>0.0232</td>\n",
              "      <td>0.0027</td>\n",
              "      <td>0.0065</td>\n",
              "      <td>0.0159</td>\n",
              "      <td>0.0072</td>\n",
              "      <td>0.0167</td>\n",
              "      <td>0.0180</td>\n",
              "      <td>0.0084</td>\n",
              "      <td>0.0090</td>\n",
              "      <td>0.0032</td>\n",
              "      <td>R</td>\n",
              "    </tr>\n",
              "    <tr>\n",
              "      <th>1</th>\n",
              "      <td>0.0453</td>\n",
              "      <td>0.0523</td>\n",
              "      <td>0.0843</td>\n",
              "      <td>0.0689</td>\n",
              "      <td>0.1183</td>\n",
              "      <td>0.2583</td>\n",
              "      <td>0.2156</td>\n",
              "      <td>0.3481</td>\n",
              "      <td>0.3337</td>\n",
              "      <td>0.2872</td>\n",
              "      <td>0.4918</td>\n",
              "      <td>0.6552</td>\n",
              "      <td>0.6919</td>\n",
              "      <td>0.7797</td>\n",
              "      <td>0.7464</td>\n",
              "      <td>0.9444</td>\n",
              "      <td>1.0000</td>\n",
              "      <td>0.8874</td>\n",
              "      <td>0.8024</td>\n",
              "      <td>0.7818</td>\n",
              "      <td>0.5212</td>\n",
              "      <td>0.4052</td>\n",
              "      <td>0.3957</td>\n",
              "      <td>0.3914</td>\n",
              "      <td>0.3250</td>\n",
              "      <td>0.3200</td>\n",
              "      <td>0.3271</td>\n",
              "      <td>0.2767</td>\n",
              "      <td>0.4423</td>\n",
              "      <td>0.2028</td>\n",
              "      <td>0.3788</td>\n",
              "      <td>0.2947</td>\n",
              "      <td>0.1984</td>\n",
              "      <td>0.2341</td>\n",
              "      <td>0.1306</td>\n",
              "      <td>0.4182</td>\n",
              "      <td>0.3835</td>\n",
              "      <td>0.1057</td>\n",
              "      <td>0.1840</td>\n",
              "      <td>0.1970</td>\n",
              "      <td>0.1674</td>\n",
              "      <td>0.0583</td>\n",
              "      <td>0.1401</td>\n",
              "      <td>0.1628</td>\n",
              "      <td>0.0621</td>\n",
              "      <td>0.0203</td>\n",
              "      <td>0.0530</td>\n",
              "      <td>0.0742</td>\n",
              "      <td>0.0409</td>\n",
              "      <td>0.0061</td>\n",
              "      <td>0.0125</td>\n",
              "      <td>0.0084</td>\n",
              "      <td>0.0089</td>\n",
              "      <td>0.0048</td>\n",
              "      <td>0.0094</td>\n",
              "      <td>0.0191</td>\n",
              "      <td>0.0140</td>\n",
              "      <td>0.0049</td>\n",
              "      <td>0.0052</td>\n",
              "      <td>0.0044</td>\n",
              "      <td>R</td>\n",
              "    </tr>\n",
              "    <tr>\n",
              "      <th>2</th>\n",
              "      <td>0.0262</td>\n",
              "      <td>0.0582</td>\n",
              "      <td>0.1099</td>\n",
              "      <td>0.1083</td>\n",
              "      <td>0.0974</td>\n",
              "      <td>0.2280</td>\n",
              "      <td>0.2431</td>\n",
              "      <td>0.3771</td>\n",
              "      <td>0.5598</td>\n",
              "      <td>0.6194</td>\n",
              "      <td>0.6333</td>\n",
              "      <td>0.7060</td>\n",
              "      <td>0.5544</td>\n",
              "      <td>0.5320</td>\n",
              "      <td>0.6479</td>\n",
              "      <td>0.6931</td>\n",
              "      <td>0.6759</td>\n",
              "      <td>0.7551</td>\n",
              "      <td>0.8929</td>\n",
              "      <td>0.8619</td>\n",
              "      <td>0.7974</td>\n",
              "      <td>0.6737</td>\n",
              "      <td>0.4293</td>\n",
              "      <td>0.3648</td>\n",
              "      <td>0.5331</td>\n",
              "      <td>0.2413</td>\n",
              "      <td>0.5070</td>\n",
              "      <td>0.8533</td>\n",
              "      <td>0.6036</td>\n",
              "      <td>0.8514</td>\n",
              "      <td>0.8512</td>\n",
              "      <td>0.5045</td>\n",
              "      <td>0.1862</td>\n",
              "      <td>0.2709</td>\n",
              "      <td>0.4232</td>\n",
              "      <td>0.3043</td>\n",
              "      <td>0.6116</td>\n",
              "      <td>0.6756</td>\n",
              "      <td>0.5375</td>\n",
              "      <td>0.4719</td>\n",
              "      <td>0.4647</td>\n",
              "      <td>0.2587</td>\n",
              "      <td>0.2129</td>\n",
              "      <td>0.2222</td>\n",
              "      <td>0.2111</td>\n",
              "      <td>0.0176</td>\n",
              "      <td>0.1348</td>\n",
              "      <td>0.0744</td>\n",
              "      <td>0.0130</td>\n",
              "      <td>0.0106</td>\n",
              "      <td>0.0033</td>\n",
              "      <td>0.0232</td>\n",
              "      <td>0.0166</td>\n",
              "      <td>0.0095</td>\n",
              "      <td>0.0180</td>\n",
              "      <td>0.0244</td>\n",
              "      <td>0.0316</td>\n",
              "      <td>0.0164</td>\n",
              "      <td>0.0095</td>\n",
              "      <td>0.0078</td>\n",
              "      <td>R</td>\n",
              "    </tr>\n",
              "    <tr>\n",
              "      <th>3</th>\n",
              "      <td>0.0100</td>\n",
              "      <td>0.0171</td>\n",
              "      <td>0.0623</td>\n",
              "      <td>0.0205</td>\n",
              "      <td>0.0205</td>\n",
              "      <td>0.0368</td>\n",
              "      <td>0.1098</td>\n",
              "      <td>0.1276</td>\n",
              "      <td>0.0598</td>\n",
              "      <td>0.1264</td>\n",
              "      <td>0.0881</td>\n",
              "      <td>0.1992</td>\n",
              "      <td>0.0184</td>\n",
              "      <td>0.2261</td>\n",
              "      <td>0.1729</td>\n",
              "      <td>0.2131</td>\n",
              "      <td>0.0693</td>\n",
              "      <td>0.2281</td>\n",
              "      <td>0.4060</td>\n",
              "      <td>0.3973</td>\n",
              "      <td>0.2741</td>\n",
              "      <td>0.3690</td>\n",
              "      <td>0.5556</td>\n",
              "      <td>0.4846</td>\n",
              "      <td>0.3140</td>\n",
              "      <td>0.5334</td>\n",
              "      <td>0.5256</td>\n",
              "      <td>0.2520</td>\n",
              "      <td>0.2090</td>\n",
              "      <td>0.3559</td>\n",
              "      <td>0.6260</td>\n",
              "      <td>0.7340</td>\n",
              "      <td>0.6120</td>\n",
              "      <td>0.3497</td>\n",
              "      <td>0.3953</td>\n",
              "      <td>0.3012</td>\n",
              "      <td>0.5408</td>\n",
              "      <td>0.8814</td>\n",
              "      <td>0.9857</td>\n",
              "      <td>0.9167</td>\n",
              "      <td>0.6121</td>\n",
              "      <td>0.5006</td>\n",
              "      <td>0.3210</td>\n",
              "      <td>0.3202</td>\n",
              "      <td>0.4295</td>\n",
              "      <td>0.3654</td>\n",
              "      <td>0.2655</td>\n",
              "      <td>0.1576</td>\n",
              "      <td>0.0681</td>\n",
              "      <td>0.0294</td>\n",
              "      <td>0.0241</td>\n",
              "      <td>0.0121</td>\n",
              "      <td>0.0036</td>\n",
              "      <td>0.0150</td>\n",
              "      <td>0.0085</td>\n",
              "      <td>0.0073</td>\n",
              "      <td>0.0050</td>\n",
              "      <td>0.0044</td>\n",
              "      <td>0.0040</td>\n",
              "      <td>0.0117</td>\n",
              "      <td>R</td>\n",
              "    </tr>\n",
              "    <tr>\n",
              "      <th>4</th>\n",
              "      <td>0.0762</td>\n",
              "      <td>0.0666</td>\n",
              "      <td>0.0481</td>\n",
              "      <td>0.0394</td>\n",
              "      <td>0.0590</td>\n",
              "      <td>0.0649</td>\n",
              "      <td>0.1209</td>\n",
              "      <td>0.2467</td>\n",
              "      <td>0.3564</td>\n",
              "      <td>0.4459</td>\n",
              "      <td>0.4152</td>\n",
              "      <td>0.3952</td>\n",
              "      <td>0.4256</td>\n",
              "      <td>0.4135</td>\n",
              "      <td>0.4528</td>\n",
              "      <td>0.5326</td>\n",
              "      <td>0.7306</td>\n",
              "      <td>0.6193</td>\n",
              "      <td>0.2032</td>\n",
              "      <td>0.4636</td>\n",
              "      <td>0.4148</td>\n",
              "      <td>0.4292</td>\n",
              "      <td>0.5730</td>\n",
              "      <td>0.5399</td>\n",
              "      <td>0.3161</td>\n",
              "      <td>0.2285</td>\n",
              "      <td>0.6995</td>\n",
              "      <td>1.0000</td>\n",
              "      <td>0.7262</td>\n",
              "      <td>0.4724</td>\n",
              "      <td>0.5103</td>\n",
              "      <td>0.5459</td>\n",
              "      <td>0.2881</td>\n",
              "      <td>0.0981</td>\n",
              "      <td>0.1951</td>\n",
              "      <td>0.4181</td>\n",
              "      <td>0.4604</td>\n",
              "      <td>0.3217</td>\n",
              "      <td>0.2828</td>\n",
              "      <td>0.2430</td>\n",
              "      <td>0.1979</td>\n",
              "      <td>0.2444</td>\n",
              "      <td>0.1847</td>\n",
              "      <td>0.0841</td>\n",
              "      <td>0.0692</td>\n",
              "      <td>0.0528</td>\n",
              "      <td>0.0357</td>\n",
              "      <td>0.0085</td>\n",
              "      <td>0.0230</td>\n",
              "      <td>0.0046</td>\n",
              "      <td>0.0156</td>\n",
              "      <td>0.0031</td>\n",
              "      <td>0.0054</td>\n",
              "      <td>0.0105</td>\n",
              "      <td>0.0110</td>\n",
              "      <td>0.0015</td>\n",
              "      <td>0.0072</td>\n",
              "      <td>0.0048</td>\n",
              "      <td>0.0107</td>\n",
              "      <td>0.0094</td>\n",
              "      <td>R</td>\n",
              "    </tr>\n",
              "  </tbody>\n",
              "</table>\n",
              "</div>"
            ],
            "text/plain": [
              "       0       1       2       3       4   ...      56      57      58      59  60\n",
              "0  0.0200  0.0371  0.0428  0.0207  0.0954  ...  0.0180  0.0084  0.0090  0.0032   R\n",
              "1  0.0453  0.0523  0.0843  0.0689  0.1183  ...  0.0140  0.0049  0.0052  0.0044   R\n",
              "2  0.0262  0.0582  0.1099  0.1083  0.0974  ...  0.0316  0.0164  0.0095  0.0078   R\n",
              "3  0.0100  0.0171  0.0623  0.0205  0.0205  ...  0.0050  0.0044  0.0040  0.0117   R\n",
              "4  0.0762  0.0666  0.0481  0.0394  0.0590  ...  0.0072  0.0048  0.0107  0.0094   R\n",
              "\n",
              "[5 rows x 61 columns]"
            ]
          },
          "metadata": {},
          "execution_count": 2
        }
      ]
    },
    {
      "cell_type": "code",
      "metadata": {
        "id": "AfudSojo9fY8",
        "colab": {
          "base_uri": "https://localhost:8080/"
        },
        "outputId": "0ac01d40-81cf-4820-c553-dff60fcdd7fa"
      },
      "source": [
        "print(df.shape) # Размерность данных"
      ],
      "execution_count": 3,
      "outputs": [
        {
          "output_type": "stream",
          "name": "stdout",
          "text": [
            "(208, 61)\n"
          ]
        }
      ]
    },
    {
      "cell_type": "code",
      "metadata": {
        "id": "AkBpydSVqsCI",
        "colab": {
          "base_uri": "https://localhost:8080/"
        },
        "outputId": "1c1c2f79-36db-4997-f34b-c8757feadf50"
      },
      "source": [
        "dataset = df.values                 # Берем только значения массива(без индексов)\n",
        "X = dataset[:,0:60].astype(float)   # Присваиваем им тип данных - float(с плавающей точкой) данным с 0 по 60 колонки\n",
        "Y = dataset[:,60]                   # Присваеваем значению Y данные из столбца с индексом 60\n",
        "Y[Y=='R']='0'                       # Если значение элемента столбца равно 'R', присваеваем ему значение '0'\n",
        "Y[Y=='M']='1'                       # Если значение элемента столбца равно 'Y', присваеваем ему значение '1'\n",
        "Y = Y.astype(int)                   # Меняем тип данных столбца на 'int'(целочисленный тип данных)\n",
        "print(X.shape)                      # Выводим размерность X\n",
        "print(Y.shape)                      # Выводим размерность Y\n",
        "print(Y)                            "
      ],
      "execution_count": 3,
      "outputs": [
        {
          "output_type": "stream",
          "name": "stdout",
          "text": [
            "(208, 60)\n",
            "(208,)\n",
            "[0 0 0 0 0 0 0 0 0 0 0 0 0 0 0 0 0 0 0 0 0 0 0 0 0 0 0 0 0 0 0 0 0 0 0 0 0\n",
            " 0 0 0 0 0 0 0 0 0 0 0 0 0 0 0 0 0 0 0 0 0 0 0 0 0 0 0 0 0 0 0 0 0 0 0 0 0\n",
            " 0 0 0 0 0 0 0 0 0 0 0 0 0 0 0 0 0 0 0 0 0 0 0 1 1 1 1 1 1 1 1 1 1 1 1 1 1\n",
            " 1 1 1 1 1 1 1 1 1 1 1 1 1 1 1 1 1 1 1 1 1 1 1 1 1 1 1 1 1 1 1 1 1 1 1 1 1\n",
            " 1 1 1 1 1 1 1 1 1 1 1 1 1 1 1 1 1 1 1 1 1 1 1 1 1 1 1 1 1 1 1 1 1 1 1 1 1\n",
            " 1 1 1 1 1 1 1 1 1 1 1 1 1 1 1 1 1 1 1 1 1 1 1]\n"
          ]
        }
      ]
    },
    {
      "cell_type": "markdown",
      "metadata": {
        "id": "wX02lsWcfeza"
      },
      "source": [
        "## Создание обучающей, проверочной и тестовой выборки\n",
        "\n",
        "*Разбор данного раздела:* https://youtu.be/ZNVupJXQisM?t=532"
      ]
    },
    {
      "cell_type": "code",
      "metadata": {
        "id": "BMenuxjkazgh",
        "colab": {
          "base_uri": "https://localhost:8080/"
        },
        "outputId": "400b8b7e-affb-44da-d503-2aedb31f01a7"
      },
      "source": [
        "# sklearn - популярная библиотека для машинного обучения\n",
        "# train_test_split - функция разделения на обучающую и проверочную/тестовую выборку\n",
        "from sklearn.model_selection import train_test_split\n",
        "\n",
        "\n",
        "# test_size=0.2 - будет выделено 20% от тренировочных данных \n",
        "# shuffle=True - перемешать данные\n",
        "# x_train - данные для обучения\n",
        "# x_test - данные для проверки\n",
        "# y_train - правильные ответы для обучения\n",
        "# y_test - правильные ответы для проверки\n",
        "x_train, x_test, y_train, y_test = train_test_split(X, Y, test_size=0.2, shuffle=True)    \n",
        "print (x_train.shape)\n",
        "print (x_test.shape)\n",
        "print (y_train.shape)\n",
        "print (y_test.shape)"
      ],
      "execution_count": 4,
      "outputs": [
        {
          "output_type": "stream",
          "name": "stdout",
          "text": [
            "(166, 60)\n",
            "(42, 60)\n",
            "(166,)\n",
            "(42,)\n"
          ]
        }
      ]
    },
    {
      "cell_type": "markdown",
      "metadata": {
        "id": "BmTr_lXTKNbN"
      },
      "source": [
        "## Создание нейронной сети\n",
        "\n",
        "*Разбор данного раздела:* https://youtu.be/ZNVupJXQisM?t=751"
      ]
    },
    {
      "cell_type": "code",
      "metadata": {
        "id": "Yi-wF-oyQd41"
      },
      "source": [
        "# Функция пересоздаёт пустую сеть\n",
        "def createModel():\n",
        "\n",
        "  # Создаем сеть\n",
        "  model = Sequential()\n",
        "\n",
        "  # Добавляем слои\n",
        "  #model.add(Dense(60, input_dim=60, activation='relu'))\n",
        "  model.add(Dense(120, input_dim=60, activation='relu'))\n",
        "  #model.add(Dropout(0.4, input_shape=(60,)))\n",
        "  model.add(BatchNormalization())\n",
        "  model.add(Dense(30,  activation='relu'))\n",
        "  #model.add(Dropout(0.5, input_shape=(60,)))\n",
        "  # 83%\n",
        "  model.add(BatchNormalization())\n",
        "  # 85% при нормализации на двух dense\n",
        "\n",
        "  #model.add(BatchNormalization(axis=-1, momentum=0.99,epsilon=0.001, center=True, scale=True,))\n",
        "  model.add(Dense(1, activation='sigmoid'))\n",
        "\n",
        "\n",
        "  # Компилируем сеть\n",
        "  model.compile(loss='binary_crossentropy', optimizer=Adam(lr=0.001), metrics=['accuracy'])\n",
        "\n",
        "  return model # Возвращаем созданную сеть"
      ],
      "execution_count": 20,
      "outputs": []
    },
    {
      "cell_type": "markdown",
      "metadata": {
        "id": "RfMhRiNGKOKu"
      },
      "source": [
        "### Варианты создания проверочной выборки\n",
        "\n",
        "*Разбор данного раздела:* https://youtu.be/ZNVupJXQisM?t=895\n"
      ]
    },
    {
      "cell_type": "markdown",
      "metadata": {
        "id": "bJjuTKJdKSsz"
      },
      "source": [
        "**validation_split**"
      ]
    },
    {
      "cell_type": "markdown",
      "metadata": {
        "id": "YliE3o5xLSR6"
      },
      "source": [
        "**validation_data**"
      ]
    },
    {
      "cell_type": "code",
      "metadata": {
        "id": "SORmOixgLVAw",
        "colab": {
          "base_uri": "https://localhost:8080/"
        },
        "outputId": "1fd682d1-df2a-4344-a510-1f11c7e45e0f"
      },
      "source": [
        "n_val = 40                  # Указываем 40 примеров в проверочную выборку\n",
        "x_len = x_train.shape[0]    # Запоминаем размер всей выборки целиком\n",
        "model = createModel()       # Создаём пустую сеть\n",
        "\n",
        "# Обучаем сеть\n",
        "model.fit(x_train[:x_len], # Берём все до индекса 166 - 40 = 126\n",
        "          y_train[:x_len], \n",
        "          batch_size=8, \n",
        "          epochs=100,\n",
        "          # Прямо указываем данные для проверочной выборки\n",
        "          # Берём от индекса 126 до конца = 40 примеров\n",
        "          validation_data=(x_train[x_len-n_val:], y_train[x_len-n_val:]), \n",
        "          verbose=1)"
      ],
      "execution_count": 21,
      "outputs": [
        {
          "output_type": "stream",
          "name": "stderr",
          "text": [
            "/usr/local/lib/python3.7/dist-packages/keras/optimizer_v2/optimizer_v2.py:356: UserWarning: The `lr` argument is deprecated, use `learning_rate` instead.\n",
            "  \"The `lr` argument is deprecated, use `learning_rate` instead.\")\n"
          ]
        },
        {
          "output_type": "stream",
          "name": "stdout",
          "text": [
            "Epoch 1/100\n",
            "21/21 [==============================] - 1s 17ms/step - loss: 0.6397 - accuracy: 0.6386 - val_loss: 0.6523 - val_accuracy: 0.5750\n",
            "Epoch 2/100\n",
            "21/21 [==============================] - 0s 7ms/step - loss: 0.4019 - accuracy: 0.8133 - val_loss: 0.6310 - val_accuracy: 0.5750\n",
            "Epoch 3/100\n",
            "21/21 [==============================] - 0s 7ms/step - loss: 0.4327 - accuracy: 0.8012 - val_loss: 0.6180 - val_accuracy: 0.5750\n",
            "Epoch 4/100\n",
            "21/21 [==============================] - 0s 8ms/step - loss: 0.3099 - accuracy: 0.8976 - val_loss: 0.6060 - val_accuracy: 0.5750\n",
            "Epoch 5/100\n",
            "21/21 [==============================] - 0s 7ms/step - loss: 0.3077 - accuracy: 0.8735 - val_loss: 0.5815 - val_accuracy: 0.6750\n",
            "Epoch 6/100\n",
            "21/21 [==============================] - 0s 7ms/step - loss: 0.2582 - accuracy: 0.9277 - val_loss: 0.5629 - val_accuracy: 0.6250\n",
            "Epoch 7/100\n",
            "21/21 [==============================] - 0s 7ms/step - loss: 0.2451 - accuracy: 0.9157 - val_loss: 0.5136 - val_accuracy: 0.8500\n",
            "Epoch 8/100\n",
            "21/21 [==============================] - 0s 8ms/step - loss: 0.2331 - accuracy: 0.9217 - val_loss: 0.4966 - val_accuracy: 0.8250\n",
            "Epoch 9/100\n",
            "21/21 [==============================] - 0s 6ms/step - loss: 0.1963 - accuracy: 0.9578 - val_loss: 0.4567 - val_accuracy: 0.9000\n",
            "Epoch 10/100\n",
            "21/21 [==============================] - 0s 6ms/step - loss: 0.1921 - accuracy: 0.9096 - val_loss: 0.4233 - val_accuracy: 0.9250\n",
            "Epoch 11/100\n",
            "21/21 [==============================] - 0s 7ms/step - loss: 0.2957 - accuracy: 0.8795 - val_loss: 0.4066 - val_accuracy: 0.9250\n",
            "Epoch 12/100\n",
            "21/21 [==============================] - 0s 6ms/step - loss: 0.1734 - accuracy: 0.9578 - val_loss: 0.3766 - val_accuracy: 0.9750\n",
            "Epoch 13/100\n",
            "21/21 [==============================] - 0s 6ms/step - loss: 0.1702 - accuracy: 0.9398 - val_loss: 0.3155 - val_accuracy: 1.0000\n",
            "Epoch 14/100\n",
            "21/21 [==============================] - 0s 6ms/step - loss: 0.1786 - accuracy: 0.9518 - val_loss: 0.2827 - val_accuracy: 0.9750\n",
            "Epoch 15/100\n",
            "21/21 [==============================] - 0s 6ms/step - loss: 0.1543 - accuracy: 0.9639 - val_loss: 0.2407 - val_accuracy: 1.0000\n",
            "Epoch 16/100\n",
            "21/21 [==============================] - 0s 6ms/step - loss: 0.1293 - accuracy: 0.9699 - val_loss: 0.2063 - val_accuracy: 0.9750\n",
            "Epoch 17/100\n",
            "21/21 [==============================] - 0s 6ms/step - loss: 0.1378 - accuracy: 0.9699 - val_loss: 0.1922 - val_accuracy: 1.0000\n",
            "Epoch 18/100\n",
            "21/21 [==============================] - 0s 6ms/step - loss: 0.1281 - accuracy: 0.9578 - val_loss: 0.1353 - val_accuracy: 1.0000\n",
            "Epoch 19/100\n",
            "21/21 [==============================] - 0s 7ms/step - loss: 0.1490 - accuracy: 0.9518 - val_loss: 0.1663 - val_accuracy: 1.0000\n",
            "Epoch 20/100\n",
            "21/21 [==============================] - 0s 6ms/step - loss: 0.1624 - accuracy: 0.9277 - val_loss: 0.1452 - val_accuracy: 1.0000\n",
            "Epoch 21/100\n",
            "21/21 [==============================] - 0s 7ms/step - loss: 0.1706 - accuracy: 0.9518 - val_loss: 0.1152 - val_accuracy: 1.0000\n",
            "Epoch 22/100\n",
            "21/21 [==============================] - 0s 6ms/step - loss: 0.1838 - accuracy: 0.9277 - val_loss: 0.1713 - val_accuracy: 0.9500\n",
            "Epoch 23/100\n",
            "21/21 [==============================] - 0s 6ms/step - loss: 0.1218 - accuracy: 0.9578 - val_loss: 0.1161 - val_accuracy: 1.0000\n",
            "Epoch 24/100\n",
            "21/21 [==============================] - 0s 6ms/step - loss: 0.1163 - accuracy: 0.9880 - val_loss: 0.0734 - val_accuracy: 1.0000\n",
            "Epoch 25/100\n",
            "21/21 [==============================] - 0s 6ms/step - loss: 0.1573 - accuracy: 0.9458 - val_loss: 0.0517 - val_accuracy: 1.0000\n",
            "Epoch 26/100\n",
            "21/21 [==============================] - 0s 6ms/step - loss: 0.1209 - accuracy: 0.9639 - val_loss: 0.0503 - val_accuracy: 1.0000\n",
            "Epoch 27/100\n",
            "21/21 [==============================] - 0s 6ms/step - loss: 0.1373 - accuracy: 0.9458 - val_loss: 0.0570 - val_accuracy: 1.0000\n",
            "Epoch 28/100\n",
            "21/21 [==============================] - 0s 6ms/step - loss: 0.1316 - accuracy: 0.9578 - val_loss: 0.0423 - val_accuracy: 1.0000\n",
            "Epoch 29/100\n",
            "21/21 [==============================] - 0s 6ms/step - loss: 0.1336 - accuracy: 0.9458 - val_loss: 0.0277 - val_accuracy: 1.0000\n",
            "Epoch 30/100\n",
            "21/21 [==============================] - 0s 7ms/step - loss: 0.1726 - accuracy: 0.9277 - val_loss: 0.0262 - val_accuracy: 1.0000\n",
            "Epoch 31/100\n",
            "21/21 [==============================] - 0s 6ms/step - loss: 0.1173 - accuracy: 0.9578 - val_loss: 0.0603 - val_accuracy: 1.0000\n",
            "Epoch 32/100\n",
            "21/21 [==============================] - 0s 7ms/step - loss: 0.1406 - accuracy: 0.9578 - val_loss: 0.0229 - val_accuracy: 1.0000\n",
            "Epoch 33/100\n",
            "21/21 [==============================] - 0s 6ms/step - loss: 0.0638 - accuracy: 0.9880 - val_loss: 0.0195 - val_accuracy: 1.0000\n",
            "Epoch 34/100\n",
            "21/21 [==============================] - 0s 6ms/step - loss: 0.1074 - accuracy: 0.9639 - val_loss: 0.0279 - val_accuracy: 1.0000\n",
            "Epoch 35/100\n",
            "21/21 [==============================] - 0s 7ms/step - loss: 0.0608 - accuracy: 0.9940 - val_loss: 0.0189 - val_accuracy: 1.0000\n",
            "Epoch 36/100\n",
            "21/21 [==============================] - 0s 8ms/step - loss: 0.0515 - accuracy: 0.9819 - val_loss: 0.0119 - val_accuracy: 1.0000\n",
            "Epoch 37/100\n",
            "21/21 [==============================] - 0s 8ms/step - loss: 0.0614 - accuracy: 0.9759 - val_loss: 0.0102 - val_accuracy: 1.0000\n",
            "Epoch 38/100\n",
            "21/21 [==============================] - 0s 8ms/step - loss: 0.0958 - accuracy: 0.9759 - val_loss: 0.0185 - val_accuracy: 1.0000\n",
            "Epoch 39/100\n",
            "21/21 [==============================] - 0s 8ms/step - loss: 0.1244 - accuracy: 0.9578 - val_loss: 0.0354 - val_accuracy: 1.0000\n",
            "Epoch 40/100\n",
            "21/21 [==============================] - 0s 8ms/step - loss: 0.1504 - accuracy: 0.9458 - val_loss: 0.0293 - val_accuracy: 1.0000\n",
            "Epoch 41/100\n",
            "21/21 [==============================] - 0s 8ms/step - loss: 0.1138 - accuracy: 0.9699 - val_loss: 0.0537 - val_accuracy: 1.0000\n",
            "Epoch 42/100\n",
            "21/21 [==============================] - 0s 8ms/step - loss: 0.1362 - accuracy: 0.9458 - val_loss: 0.1635 - val_accuracy: 0.9000\n",
            "Epoch 43/100\n",
            "21/21 [==============================] - 0s 6ms/step - loss: 0.1810 - accuracy: 0.9277 - val_loss: 0.1554 - val_accuracy: 0.9250\n",
            "Epoch 44/100\n",
            "21/21 [==============================] - 0s 6ms/step - loss: 0.2009 - accuracy: 0.9096 - val_loss: 0.0920 - val_accuracy: 0.9500\n",
            "Epoch 45/100\n",
            "21/21 [==============================] - 0s 6ms/step - loss: 0.1009 - accuracy: 0.9639 - val_loss: 0.0477 - val_accuracy: 1.0000\n",
            "Epoch 46/100\n",
            "21/21 [==============================] - 0s 7ms/step - loss: 0.1840 - accuracy: 0.9217 - val_loss: 0.0584 - val_accuracy: 0.9500\n",
            "Epoch 47/100\n",
            "21/21 [==============================] - 0s 6ms/step - loss: 0.0925 - accuracy: 0.9639 - val_loss: 0.0232 - val_accuracy: 1.0000\n",
            "Epoch 48/100\n",
            "21/21 [==============================] - 0s 6ms/step - loss: 0.1007 - accuracy: 0.9699 - val_loss: 0.0232 - val_accuracy: 1.0000\n",
            "Epoch 49/100\n",
            "21/21 [==============================] - 0s 7ms/step - loss: 0.0866 - accuracy: 0.9819 - val_loss: 0.0118 - val_accuracy: 1.0000\n",
            "Epoch 50/100\n",
            "21/21 [==============================] - 0s 7ms/step - loss: 0.1293 - accuracy: 0.9518 - val_loss: 0.0260 - val_accuracy: 1.0000\n",
            "Epoch 51/100\n",
            "21/21 [==============================] - 0s 7ms/step - loss: 0.1117 - accuracy: 0.9518 - val_loss: 0.0217 - val_accuracy: 1.0000\n",
            "Epoch 52/100\n",
            "21/21 [==============================] - 0s 6ms/step - loss: 0.0664 - accuracy: 0.9699 - val_loss: 0.0408 - val_accuracy: 1.0000\n",
            "Epoch 53/100\n",
            "21/21 [==============================] - 0s 7ms/step - loss: 0.1052 - accuracy: 0.9759 - val_loss: 0.0281 - val_accuracy: 1.0000\n",
            "Epoch 54/100\n",
            "21/21 [==============================] - 0s 8ms/step - loss: 0.0490 - accuracy: 0.9880 - val_loss: 0.0117 - val_accuracy: 1.0000\n",
            "Epoch 55/100\n",
            "21/21 [==============================] - 0s 7ms/step - loss: 0.1013 - accuracy: 0.9639 - val_loss: 0.0087 - val_accuracy: 1.0000\n",
            "Epoch 56/100\n",
            "21/21 [==============================] - 0s 7ms/step - loss: 0.0867 - accuracy: 0.9699 - val_loss: 0.0114 - val_accuracy: 1.0000\n",
            "Epoch 57/100\n",
            "21/21 [==============================] - 0s 7ms/step - loss: 0.0924 - accuracy: 0.9759 - val_loss: 0.0716 - val_accuracy: 0.9750\n",
            "Epoch 58/100\n",
            "21/21 [==============================] - 0s 6ms/step - loss: 0.1805 - accuracy: 0.9398 - val_loss: 0.0166 - val_accuracy: 1.0000\n",
            "Epoch 59/100\n",
            "21/21 [==============================] - 0s 7ms/step - loss: 0.0686 - accuracy: 0.9699 - val_loss: 0.0201 - val_accuracy: 1.0000\n",
            "Epoch 60/100\n",
            "21/21 [==============================] - 0s 6ms/step - loss: 0.0463 - accuracy: 0.9880 - val_loss: 0.0227 - val_accuracy: 1.0000\n",
            "Epoch 61/100\n",
            "21/21 [==============================] - 0s 7ms/step - loss: 0.0560 - accuracy: 0.9940 - val_loss: 0.0199 - val_accuracy: 1.0000\n",
            "Epoch 62/100\n",
            "21/21 [==============================] - 0s 7ms/step - loss: 0.1236 - accuracy: 0.9398 - val_loss: 0.0417 - val_accuracy: 0.9750\n",
            "Epoch 63/100\n",
            "21/21 [==============================] - 0s 8ms/step - loss: 0.1390 - accuracy: 0.9518 - val_loss: 0.0348 - val_accuracy: 1.0000\n",
            "Epoch 64/100\n",
            "21/21 [==============================] - 0s 6ms/step - loss: 0.1041 - accuracy: 0.9699 - val_loss: 0.0120 - val_accuracy: 1.0000\n",
            "Epoch 65/100\n",
            "21/21 [==============================] - 0s 6ms/step - loss: 0.1157 - accuracy: 0.9578 - val_loss: 0.0150 - val_accuracy: 1.0000\n",
            "Epoch 66/100\n",
            "21/21 [==============================] - 0s 6ms/step - loss: 0.0978 - accuracy: 0.9699 - val_loss: 0.0102 - val_accuracy: 1.0000\n",
            "Epoch 67/100\n",
            "21/21 [==============================] - 0s 6ms/step - loss: 0.0893 - accuracy: 0.9578 - val_loss: 0.0457 - val_accuracy: 0.9750\n",
            "Epoch 68/100\n",
            "21/21 [==============================] - 0s 6ms/step - loss: 0.0444 - accuracy: 0.9940 - val_loss: 0.0150 - val_accuracy: 1.0000\n",
            "Epoch 69/100\n",
            "21/21 [==============================] - 0s 6ms/step - loss: 0.0692 - accuracy: 0.9759 - val_loss: 0.0126 - val_accuracy: 1.0000\n",
            "Epoch 70/100\n",
            "21/21 [==============================] - 0s 6ms/step - loss: 0.0858 - accuracy: 0.9578 - val_loss: 0.0168 - val_accuracy: 1.0000\n",
            "Epoch 71/100\n",
            "21/21 [==============================] - 0s 7ms/step - loss: 0.0789 - accuracy: 0.9819 - val_loss: 0.0123 - val_accuracy: 1.0000\n",
            "Epoch 72/100\n",
            "21/21 [==============================] - 0s 6ms/step - loss: 0.0883 - accuracy: 0.9699 - val_loss: 0.0270 - val_accuracy: 1.0000\n",
            "Epoch 73/100\n",
            "21/21 [==============================] - 0s 6ms/step - loss: 0.0732 - accuracy: 0.9578 - val_loss: 0.0154 - val_accuracy: 1.0000\n",
            "Epoch 74/100\n",
            "21/21 [==============================] - 0s 6ms/step - loss: 0.0895 - accuracy: 0.9639 - val_loss: 0.0099 - val_accuracy: 1.0000\n",
            "Epoch 75/100\n",
            "21/21 [==============================] - 0s 7ms/step - loss: 0.0930 - accuracy: 0.9759 - val_loss: 0.0219 - val_accuracy: 1.0000\n",
            "Epoch 76/100\n",
            "21/21 [==============================] - 0s 6ms/step - loss: 0.0380 - accuracy: 0.9819 - val_loss: 0.0174 - val_accuracy: 1.0000\n",
            "Epoch 77/100\n",
            "21/21 [==============================] - 0s 8ms/step - loss: 0.1088 - accuracy: 0.9458 - val_loss: 0.0065 - val_accuracy: 1.0000\n",
            "Epoch 78/100\n",
            "21/21 [==============================] - 0s 6ms/step - loss: 0.1946 - accuracy: 0.9398 - val_loss: 0.0407 - val_accuracy: 1.0000\n",
            "Epoch 79/100\n",
            "21/21 [==============================] - 0s 6ms/step - loss: 0.1111 - accuracy: 0.9518 - val_loss: 0.0338 - val_accuracy: 1.0000\n",
            "Epoch 80/100\n",
            "21/21 [==============================] - 0s 7ms/step - loss: 0.0511 - accuracy: 0.9819 - val_loss: 0.0100 - val_accuracy: 1.0000\n",
            "Epoch 81/100\n",
            "21/21 [==============================] - 0s 6ms/step - loss: 0.2275 - accuracy: 0.9157 - val_loss: 0.0141 - val_accuracy: 1.0000\n",
            "Epoch 82/100\n",
            "21/21 [==============================] - 0s 6ms/step - loss: 0.0575 - accuracy: 0.9880 - val_loss: 0.0128 - val_accuracy: 1.0000\n",
            "Epoch 83/100\n",
            "21/21 [==============================] - 0s 6ms/step - loss: 0.0834 - accuracy: 0.9699 - val_loss: 0.0172 - val_accuracy: 1.0000\n",
            "Epoch 84/100\n",
            "21/21 [==============================] - 0s 7ms/step - loss: 0.1389 - accuracy: 0.9518 - val_loss: 0.1958 - val_accuracy: 0.9250\n",
            "Epoch 85/100\n",
            "21/21 [==============================] - 0s 6ms/step - loss: 0.0702 - accuracy: 0.9759 - val_loss: 0.0090 - val_accuracy: 1.0000\n",
            "Epoch 86/100\n",
            "21/21 [==============================] - 0s 6ms/step - loss: 0.0499 - accuracy: 0.9880 - val_loss: 0.0060 - val_accuracy: 1.0000\n",
            "Epoch 87/100\n",
            "21/21 [==============================] - 0s 6ms/step - loss: 0.0584 - accuracy: 0.9759 - val_loss: 0.0094 - val_accuracy: 1.0000\n",
            "Epoch 88/100\n",
            "21/21 [==============================] - 0s 6ms/step - loss: 0.0877 - accuracy: 0.9518 - val_loss: 0.0035 - val_accuracy: 1.0000\n",
            "Epoch 89/100\n",
            "21/21 [==============================] - 0s 6ms/step - loss: 0.0835 - accuracy: 0.9578 - val_loss: 0.0115 - val_accuracy: 1.0000\n",
            "Epoch 90/100\n",
            "21/21 [==============================] - 0s 6ms/step - loss: 0.1173 - accuracy: 0.9398 - val_loss: 0.0443 - val_accuracy: 0.9750\n",
            "Epoch 91/100\n",
            "21/21 [==============================] - 0s 6ms/step - loss: 0.0248 - accuracy: 0.9880 - val_loss: 0.0034 - val_accuracy: 1.0000\n",
            "Epoch 92/100\n",
            "21/21 [==============================] - 0s 6ms/step - loss: 0.0661 - accuracy: 0.9759 - val_loss: 0.0078 - val_accuracy: 1.0000\n",
            "Epoch 93/100\n",
            "21/21 [==============================] - 0s 7ms/step - loss: 0.0720 - accuracy: 0.9699 - val_loss: 0.0051 - val_accuracy: 1.0000\n",
            "Epoch 94/100\n",
            "21/21 [==============================] - 0s 6ms/step - loss: 0.0533 - accuracy: 0.9819 - val_loss: 0.0026 - val_accuracy: 1.0000\n",
            "Epoch 95/100\n",
            "21/21 [==============================] - 0s 6ms/step - loss: 0.0397 - accuracy: 0.9880 - val_loss: 0.0020 - val_accuracy: 1.0000\n",
            "Epoch 96/100\n",
            "21/21 [==============================] - 0s 7ms/step - loss: 0.0349 - accuracy: 0.9940 - val_loss: 0.0013 - val_accuracy: 1.0000\n",
            "Epoch 97/100\n",
            "21/21 [==============================] - 0s 7ms/step - loss: 0.0460 - accuracy: 0.9759 - val_loss: 0.0039 - val_accuracy: 1.0000\n",
            "Epoch 98/100\n",
            "21/21 [==============================] - 0s 6ms/step - loss: 0.0660 - accuracy: 0.9699 - val_loss: 0.0028 - val_accuracy: 1.0000\n",
            "Epoch 99/100\n",
            "21/21 [==============================] - 0s 6ms/step - loss: 0.1865 - accuracy: 0.9277 - val_loss: 0.0186 - val_accuracy: 1.0000\n",
            "Epoch 100/100\n",
            "21/21 [==============================] - 0s 6ms/step - loss: 0.0842 - accuracy: 0.9639 - val_loss: 0.0546 - val_accuracy: 0.9750\n"
          ]
        },
        {
          "output_type": "execute_result",
          "data": {
            "text/plain": [
              "<keras.callbacks.History at 0x7fbdb4086310>"
            ]
          },
          "metadata": {},
          "execution_count": 21
        }
      ]
    },
    {
      "cell_type": "markdown",
      "metadata": {
        "id": "ujalPkQmNE9h"
      },
      "source": [
        "**sklearn train_test_split**"
      ]
    },
    {
      "cell_type": "markdown",
      "metadata": {
        "id": "DzcAzNp5kz6q"
      },
      "source": [
        "## Проверяем качество обучения на тестовом наборе данных\n",
        "\n",
        "*Разбор данного раздела:* https://youtu.be/ZNVupJXQisM?t=1542"
      ]
    },
    {
      "cell_type": "code",
      "metadata": {
        "id": "ZOymJgu_k7Fy",
        "colab": {
          "base_uri": "https://localhost:8080/"
        },
        "outputId": "db9d34b4-7d4d-4c93-f0ce-45c51c39b00c"
      },
      "source": [
        "# Вычисляем результаты сети на тестовом наборе\n",
        "scores = model.evaluate(x_test, y_test, verbose=1)\n",
        "\n",
        "# scores состоит из двух знанчений\n",
        "# scores[0] - loss сети на тестовой выборке\n",
        "# scores[1] - процент правильно распознанных примеров на тестовой выборке\n",
        "print(scores)\n",
        "print(\"Доля верных ответов на тестовых данных, в процентах: \", round(scores[1] * 100, 4), \"%\", sep=\"\")"
      ],
      "execution_count": 22,
      "outputs": [
        {
          "output_type": "stream",
          "name": "stdout",
          "text": [
            "2/2 [==============================] - 0s 8ms/step - loss: 0.3126 - accuracy: 0.9048\n",
            "[0.3125620186328888, 0.9047619104385376]\n",
            "Доля верных ответов на тестовых данных, в процентах: 90.4762%\n"
          ]
        }
      ]
    },
    {
      "cell_type": "markdown",
      "metadata": {
        "id": "wYhse8xmmdS5"
      },
      "source": [
        "## Визуализация качества обучения\n",
        "\n",
        "*Разбор данного раздела:* https://youtu.be/ZNVupJXQisM?t=1683\n"
      ]
    },
    {
      "cell_type": "code",
      "metadata": {
        "id": "iIRp3sryijqK",
        "colab": {
          "base_uri": "https://localhost:8080/",
          "height": 279
        },
        "outputId": "4f56f025-d31d-487b-aaab-438c5edb9788"
      },
      "source": [
        "# Выводим график точности на обучающей выборке\n",
        "# label - имя графика в легенде\n",
        "plt.plot(history.history['accuracy'], \n",
        "         label='Доля верных ответов на обучающем наборе')\n",
        "\n",
        "# Выводим график точности на проверочной выборке\n",
        "plt.plot(history.history['val_accuracy'], \n",
        "         label='Доля верных ответов на проверочном наборе')\n",
        "\n",
        "# Выводим подписи осей\n",
        "plt.xlabel('Эпоха обучения')\n",
        "plt.ylabel('Доля верных ответов')\n",
        "\n",
        "# Выводим легенду\n",
        "plt.legend()\n",
        "plt.show()"
      ],
      "execution_count": 55,
      "outputs": [
        {
          "output_type": "display_data",
          "data": {
            "image/png": "[encoded data removed]",
            "text/plain": [
              "<Figure size 432x288 with 1 Axes>"
            ]
          },
          "metadata": {
            "needs_background": "light"
          }
        }
      ]
    },
    {
      "cell_type": "code",
      "metadata": {
        "id": "8IlNhx3Pik4W",
        "colab": {
          "base_uri": "https://localhost:8080/",
          "height": 279
        },
        "outputId": "2518035c-f5b5-4179-a899-3a70fa60aa0b"
      },
      "source": [
        "# Выводим графики ошибки\n",
        "plt.plot(history.history['loss'], \n",
        "         label='Ошибка на обучающем наборе')\n",
        "plt.plot(history.history['val_loss'], \n",
        "         label='Ошибка на проверочном наборе')\n",
        "plt.xlabel('Эпоха обучения')\n",
        "plt.ylabel('Ошибка')\n",
        "plt.legend()\n",
        "plt.show()"
      ],
      "execution_count": 56,
      "outputs": [
        {
          "output_type": "display_data",
          "data": {
            "image/png": "[encoded data removed]",
            "text/plain": [
              "<Figure size 432x288 with 1 Axes>"
            ]
          },
          "metadata": {
            "needs_background": "light"
          }
        }
      ]
    },
    {
      "cell_type": "markdown",
      "metadata": {
        "id": "3rDAPx24qc6E"
      },
      "source": [
        "## Нормализация\n",
        "\n",
        "*Разбор данного раздела:* https://youtu.be/ZNVupJXQisM?t=2134"
      ]
    },
    {
      "cell_type": "code",
      "metadata": {
        "id": "ZJrUWd_JsJXQ",
        "colab": {
          "base_uri": "https://localhost:8080/",
          "height": 1000
        },
        "outputId": "2006a71a-d54a-495b-d63e-ff2e35dc7c8d"
      },
      "source": [
        "model = Sequential()\n",
        "\n",
        "# Добавляем слой пакетной нормализации\n",
        "# Теперь input_shape=(60, ) надо указывать в нём\n",
        "# А не в первом полносвязном слое\n",
        "model.add(BatchNormalization(input_shape=(60, )))\n",
        "model.add(Dense(60, activation='relu'))\n",
        "model.add(BatchNormalization())\n",
        "model.add(Dense(30, activation='relu'))\n",
        "model.add(Dense(1, activation='sigmoid'))\n",
        "\n",
        "model.compile(loss='binary_crossentropy', optimizer=Adam(lr=0.001), metrics=['accuracy'])\n",
        "\n",
        "history = model.fit(x_train, \n",
        "                    y_train, \n",
        "                    batch_size=200, \n",
        "                    epochs=100,\n",
        "                    validation_split=0.2,\n",
        "                    verbose=1)\n",
        "\n",
        "plt.plot(history.history['accuracy'], \n",
        "         label='Доля верных ответов на обучающем наборе')\n",
        "plt.plot(history.history['val_accuracy'], \n",
        "         label='Доля верных ответов на проверочном наборе')\n",
        "plt.xlabel('Эпоха обучения')\n",
        "plt.ylabel('Доля верных ответов')\n",
        "plt.legend()\n",
        "plt.show()\n",
        "\n",
        "#Выводим графики ошибки\n",
        "plt.plot(history.history['loss'], \n",
        "         label='Ошибка на обучающем наборе')\n",
        "plt.plot(history.history['val_loss'], \n",
        "         label='Ошибка на проверочном наборе')\n",
        "plt.xlabel('Эпоха обучения')\n",
        "plt.ylabel('Ошибка')\n",
        "plt.legend()\n",
        "plt.show()"
      ],
      "execution_count": 57,
      "outputs": [
        {
          "output_type": "stream",
          "name": "stderr",
          "text": [
            "/usr/local/lib/python3.7/dist-packages/keras/optimizer_v2/optimizer_v2.py:356: UserWarning: The `lr` argument is deprecated, use `learning_rate` instead.\n",
            "  \"The `lr` argument is deprecated, use `learning_rate` instead.\")\n"
          ]
        },
        {
          "output_type": "stream",
          "name": "stdout",
          "text": [
            "Epoch 1/100\n",
            "1/1 [==============================] - 1s 1s/step - loss: 0.7275 - accuracy: 0.5227 - val_loss: 0.6774 - val_accuracy: 0.6765\n",
            "Epoch 2/100\n",
            "1/1 [==============================] - 0s 28ms/step - loss: 0.6870 - accuracy: 0.5530 - val_loss: 0.6774 - val_accuracy: 0.7059\n",
            "Epoch 3/100\n",
            "1/1 [==============================] - 0s 29ms/step - loss: 0.6493 - accuracy: 0.5985 - val_loss: 0.6773 - val_accuracy: 0.7059\n",
            "Epoch 4/100\n",
            "1/1 [==============================] - 0s 26ms/step - loss: 0.6139 - accuracy: 0.6439 - val_loss: 0.6772 - val_accuracy: 0.7353\n",
            "Epoch 5/100\n",
            "1/1 [==============================] - 0s 34ms/step - loss: 0.5811 - accuracy: 0.6591 - val_loss: 0.6771 - val_accuracy: 0.7353\n",
            "Epoch 6/100\n",
            "1/1 [==============================] - 0s 28ms/step - loss: 0.5511 - accuracy: 0.6970 - val_loss: 0.6770 - val_accuracy: 0.7353\n",
            "Epoch 7/100\n",
            "1/1 [==============================] - 0s 27ms/step - loss: 0.5234 - accuracy: 0.7348 - val_loss: 0.6769 - val_accuracy: 0.7353\n",
            "Epoch 8/100\n",
            "1/1 [==============================] - 0s 30ms/step - loss: 0.4984 - accuracy: 0.7652 - val_loss: 0.6767 - val_accuracy: 0.6765\n",
            "Epoch 9/100\n",
            "1/1 [==============================] - 0s 29ms/step - loss: 0.4753 - accuracy: 0.7879 - val_loss: 0.6766 - val_accuracy: 0.6471\n",
            "Epoch 10/100\n",
            "1/1 [==============================] - 0s 31ms/step - loss: 0.4537 - accuracy: 0.8258 - val_loss: 0.6765 - val_accuracy: 0.6176\n",
            "Epoch 11/100\n",
            "1/1 [==============================] - 0s 29ms/step - loss: 0.4337 - accuracy: 0.8636 - val_loss: 0.6764 - val_accuracy: 0.6176\n",
            "Epoch 12/100\n",
            "1/1 [==============================] - 0s 28ms/step - loss: 0.4150 - accuracy: 0.8939 - val_loss: 0.6762 - val_accuracy: 0.5882\n",
            "Epoch 13/100\n",
            "1/1 [==============================] - 0s 28ms/step - loss: 0.3973 - accuracy: 0.9015 - val_loss: 0.6760 - val_accuracy: 0.5882\n",
            "Epoch 14/100\n",
            "1/1 [==============================] - 0s 28ms/step - loss: 0.3805 - accuracy: 0.9167 - val_loss: 0.6757 - val_accuracy: 0.5588\n",
            "Epoch 15/100\n",
            "1/1 [==============================] - 0s 29ms/step - loss: 0.3642 - accuracy: 0.9242 - val_loss: 0.6755 - val_accuracy: 0.5882\n",
            "Epoch 16/100\n",
            "1/1 [==============================] - 0s 32ms/step - loss: 0.3486 - accuracy: 0.9394 - val_loss: 0.6753 - val_accuracy: 0.5882\n",
            "Epoch 17/100\n",
            "1/1 [==============================] - 0s 31ms/step - loss: 0.3337 - accuracy: 0.9394 - val_loss: 0.6751 - val_accuracy: 0.5882\n",
            "Epoch 18/100\n",
            "1/1 [==============================] - 0s 48ms/step - loss: 0.3197 - accuracy: 0.9394 - val_loss: 0.6748 - val_accuracy: 0.5882\n",
            "Epoch 19/100\n",
            "1/1 [==============================] - 0s 28ms/step - loss: 0.3064 - accuracy: 0.9394 - val_loss: 0.6744 - val_accuracy: 0.5882\n",
            "Epoch 20/100\n",
            "1/1 [==============================] - 0s 29ms/step - loss: 0.2936 - accuracy: 0.9394 - val_loss: 0.6739 - val_accuracy: 0.5882\n",
            "Epoch 21/100\n",
            "1/1 [==============================] - 0s 26ms/step - loss: 0.2813 - accuracy: 0.9470 - val_loss: 0.6735 - val_accuracy: 0.5882\n",
            "Epoch 22/100\n",
            "1/1 [==============================] - 0s 31ms/step - loss: 0.2697 - accuracy: 0.9470 - val_loss: 0.6733 - val_accuracy: 0.5882\n",
            "Epoch 23/100\n",
            "1/1 [==============================] - 0s 37ms/step - loss: 0.2586 - accuracy: 0.9545 - val_loss: 0.6732 - val_accuracy: 0.5882\n",
            "Epoch 24/100\n",
            "1/1 [==============================] - 0s 31ms/step - loss: 0.2477 - accuracy: 0.9545 - val_loss: 0.6731 - val_accuracy: 0.5882\n",
            "Epoch 25/100\n",
            "1/1 [==============================] - 0s 29ms/step - loss: 0.2373 - accuracy: 0.9621 - val_loss: 0.6730 - val_accuracy: 0.5882\n",
            "Epoch 26/100\n",
            "1/1 [==============================] - 0s 34ms/step - loss: 0.2273 - accuracy: 0.9773 - val_loss: 0.6728 - val_accuracy: 0.5882\n",
            "Epoch 27/100\n",
            "1/1 [==============================] - 0s 34ms/step - loss: 0.2177 - accuracy: 0.9848 - val_loss: 0.6727 - val_accuracy: 0.5882\n",
            "Epoch 28/100\n",
            "1/1 [==============================] - 0s 65ms/step - loss: 0.2085 - accuracy: 0.9848 - val_loss: 0.6725 - val_accuracy: 0.6176\n",
            "Epoch 29/100\n",
            "1/1 [==============================] - 0s 35ms/step - loss: 0.1998 - accuracy: 0.9773 - val_loss: 0.6722 - val_accuracy: 0.6176\n",
            "Epoch 30/100\n",
            "1/1 [==============================] - 0s 36ms/step - loss: 0.1914 - accuracy: 0.9773 - val_loss: 0.6719 - val_accuracy: 0.6176\n",
            "Epoch 31/100\n",
            "1/1 [==============================] - 0s 32ms/step - loss: 0.1833 - accuracy: 0.9848 - val_loss: 0.6715 - val_accuracy: 0.6471\n",
            "Epoch 32/100\n",
            "1/1 [==============================] - 0s 30ms/step - loss: 0.1754 - accuracy: 0.9848 - val_loss: 0.6712 - val_accuracy: 0.6471\n",
            "Epoch 33/100\n",
            "1/1 [==============================] - 0s 32ms/step - loss: 0.1679 - accuracy: 0.9848 - val_loss: 0.6710 - val_accuracy: 0.6471\n",
            "Epoch 34/100\n",
            "1/1 [==============================] - 0s 32ms/step - loss: 0.1607 - accuracy: 0.9848 - val_loss: 0.6708 - val_accuracy: 0.6471\n",
            "Epoch 35/100\n",
            "1/1 [==============================] - 0s 30ms/step - loss: 0.1537 - accuracy: 0.9848 - val_loss: 0.6707 - val_accuracy: 0.6176\n",
            "Epoch 36/100\n",
            "1/1 [==============================] - 0s 29ms/step - loss: 0.1472 - accuracy: 0.9848 - val_loss: 0.6707 - val_accuracy: 0.6176\n",
            "Epoch 37/100\n",
            "1/1 [==============================] - 0s 27ms/step - loss: 0.1408 - accuracy: 0.9848 - val_loss: 0.6707 - val_accuracy: 0.5882\n",
            "Epoch 38/100\n",
            "1/1 [==============================] - 0s 29ms/step - loss: 0.1348 - accuracy: 0.9924 - val_loss: 0.6710 - val_accuracy: 0.5882\n",
            "Epoch 39/100\n",
            "1/1 [==============================] - 0s 31ms/step - loss: 0.1290 - accuracy: 0.9924 - val_loss: 0.6714 - val_accuracy: 0.5882\n",
            "Epoch 40/100\n",
            "1/1 [==============================] - 0s 27ms/step - loss: 0.1235 - accuracy: 0.9924 - val_loss: 0.6718 - val_accuracy: 0.5588\n",
            "Epoch 41/100\n",
            "1/1 [==============================] - 0s 29ms/step - loss: 0.1183 - accuracy: 0.9924 - val_loss: 0.6723 - val_accuracy: 0.5588\n",
            "Epoch 42/100\n",
            "1/1 [==============================] - 0s 27ms/step - loss: 0.1133 - accuracy: 0.9924 - val_loss: 0.6730 - val_accuracy: 0.5588\n",
            "Epoch 43/100\n",
            "1/1 [==============================] - 0s 31ms/step - loss: 0.1085 - accuracy: 0.9924 - val_loss: 0.6736 - val_accuracy: 0.5294\n",
            "Epoch 44/100\n",
            "1/1 [==============================] - 0s 27ms/step - loss: 0.1039 - accuracy: 0.9924 - val_loss: 0.6744 - val_accuracy: 0.5294\n",
            "Epoch 45/100\n",
            "1/1 [==============================] - 0s 34ms/step - loss: 0.0995 - accuracy: 0.9924 - val_loss: 0.6753 - val_accuracy: 0.5294\n",
            "Epoch 46/100\n",
            "1/1 [==============================] - 0s 28ms/step - loss: 0.0953 - accuracy: 0.9924 - val_loss: 0.6762 - val_accuracy: 0.5294\n",
            "Epoch 47/100\n",
            "1/1 [==============================] - 0s 28ms/step - loss: 0.0913 - accuracy: 0.9924 - val_loss: 0.6771 - val_accuracy: 0.5294\n",
            "Epoch 48/100\n",
            "1/1 [==============================] - 0s 28ms/step - loss: 0.0875 - accuracy: 0.9924 - val_loss: 0.6781 - val_accuracy: 0.5000\n",
            "Epoch 49/100\n",
            "1/1 [==============================] - 0s 26ms/step - loss: 0.0839 - accuracy: 0.9924 - val_loss: 0.6793 - val_accuracy: 0.5000\n",
            "Epoch 50/100\n",
            "1/1 [==============================] - 0s 27ms/step - loss: 0.0804 - accuracy: 0.9924 - val_loss: 0.6807 - val_accuracy: 0.4706\n",
            "Epoch 51/100\n",
            "1/1 [==============================] - 0s 26ms/step - loss: 0.0771 - accuracy: 1.0000 - val_loss: 0.6822 - val_accuracy: 0.4706\n",
            "Epoch 52/100\n",
            "1/1 [==============================] - 0s 33ms/step - loss: 0.0739 - accuracy: 1.0000 - val_loss: 0.6837 - val_accuracy: 0.4706\n",
            "Epoch 53/100\n",
            "1/1 [==============================] - 0s 27ms/step - loss: 0.0709 - accuracy: 1.0000 - val_loss: 0.6853 - val_accuracy: 0.4706\n",
            "Epoch 54/100\n",
            "1/1 [==============================] - 0s 45ms/step - loss: 0.0679 - accuracy: 1.0000 - val_loss: 0.6870 - val_accuracy: 0.4706\n",
            "Epoch 55/100\n",
            "1/1 [==============================] - 0s 36ms/step - loss: 0.0651 - accuracy: 1.0000 - val_loss: 0.6888 - val_accuracy: 0.4412\n",
            "Epoch 56/100\n",
            "1/1 [==============================] - 0s 32ms/step - loss: 0.0624 - accuracy: 1.0000 - val_loss: 0.6907 - val_accuracy: 0.4412\n",
            "Epoch 57/100\n",
            "1/1 [==============================] - 0s 30ms/step - loss: 0.0599 - accuracy: 1.0000 - val_loss: 0.6927 - val_accuracy: 0.4412\n",
            "Epoch 58/100\n",
            "1/1 [==============================] - 0s 30ms/step - loss: 0.0574 - accuracy: 1.0000 - val_loss: 0.6948 - val_accuracy: 0.4412\n",
            "Epoch 59/100\n",
            "1/1 [==============================] - 0s 31ms/step - loss: 0.0551 - accuracy: 1.0000 - val_loss: 0.6971 - val_accuracy: 0.4412\n",
            "Epoch 60/100\n",
            "1/1 [==============================] - 0s 33ms/step - loss: 0.0529 - accuracy: 1.0000 - val_loss: 0.6995 - val_accuracy: 0.4412\n",
            "Epoch 61/100\n",
            "1/1 [==============================] - 0s 36ms/step - loss: 0.0507 - accuracy: 1.0000 - val_loss: 0.7019 - val_accuracy: 0.4412\n",
            "Epoch 62/100\n",
            "1/1 [==============================] - 0s 36ms/step - loss: 0.0487 - accuracy: 1.0000 - val_loss: 0.7045 - val_accuracy: 0.4412\n",
            "Epoch 63/100\n",
            "1/1 [==============================] - 0s 35ms/step - loss: 0.0468 - accuracy: 1.0000 - val_loss: 0.7071 - val_accuracy: 0.4412\n",
            "Epoch 64/100\n",
            "1/1 [==============================] - 0s 27ms/step - loss: 0.0450 - accuracy: 1.0000 - val_loss: 0.7097 - val_accuracy: 0.4412\n",
            "Epoch 65/100\n",
            "1/1 [==============================] - 0s 31ms/step - loss: 0.0433 - accuracy: 1.0000 - val_loss: 0.7126 - val_accuracy: 0.4706\n",
            "Epoch 66/100\n",
            "1/1 [==============================] - 0s 30ms/step - loss: 0.0417 - accuracy: 1.0000 - val_loss: 0.7156 - val_accuracy: 0.4706\n",
            "Epoch 67/100\n",
            "1/1 [==============================] - 0s 38ms/step - loss: 0.0402 - accuracy: 1.0000 - val_loss: 0.7186 - val_accuracy: 0.4706\n",
            "Epoch 68/100\n",
            "1/1 [==============================] - 0s 34ms/step - loss: 0.0387 - accuracy: 1.0000 - val_loss: 0.7216 - val_accuracy: 0.4412\n",
            "Epoch 69/100\n",
            "1/1 [==============================] - 0s 31ms/step - loss: 0.0374 - accuracy: 1.0000 - val_loss: 0.7246 - val_accuracy: 0.4412\n",
            "Epoch 70/100\n",
            "1/1 [==============================] - 0s 34ms/step - loss: 0.0360 - accuracy: 1.0000 - val_loss: 0.7276 - val_accuracy: 0.4412\n",
            "Epoch 71/100\n",
            "1/1 [==============================] - 0s 31ms/step - loss: 0.0348 - accuracy: 1.0000 - val_loss: 0.7305 - val_accuracy: 0.4412\n",
            "Epoch 72/100\n",
            "1/1 [==============================] - 0s 27ms/step - loss: 0.0336 - accuracy: 1.0000 - val_loss: 0.7335 - val_accuracy: 0.4412\n",
            "Epoch 73/100\n",
            "1/1 [==============================] - 0s 28ms/step - loss: 0.0324 - accuracy: 1.0000 - val_loss: 0.7365 - val_accuracy: 0.4412\n",
            "Epoch 74/100\n",
            "1/1 [==============================] - 0s 29ms/step - loss: 0.0313 - accuracy: 1.0000 - val_loss: 0.7396 - val_accuracy: 0.4412\n",
            "Epoch 75/100\n",
            "1/1 [==============================] - 0s 30ms/step - loss: 0.0303 - accuracy: 1.0000 - val_loss: 0.7426 - val_accuracy: 0.4412\n",
            "Epoch 76/100\n",
            "1/1 [==============================] - 0s 31ms/step - loss: 0.0292 - accuracy: 1.0000 - val_loss: 0.7457 - val_accuracy: 0.4412\n",
            "Epoch 77/100\n",
            "1/1 [==============================] - 0s 29ms/step - loss: 0.0283 - accuracy: 1.0000 - val_loss: 0.7488 - val_accuracy: 0.4412\n",
            "Epoch 78/100\n",
            "1/1 [==============================] - 0s 32ms/step - loss: 0.0274 - accuracy: 1.0000 - val_loss: 0.7521 - val_accuracy: 0.4412\n",
            "Epoch 79/100\n",
            "1/1 [==============================] - 0s 35ms/step - loss: 0.0265 - accuracy: 1.0000 - val_loss: 0.7555 - val_accuracy: 0.4412\n",
            "Epoch 80/100\n",
            "1/1 [==============================] - 0s 46ms/step - loss: 0.0256 - accuracy: 1.0000 - val_loss: 0.7588 - val_accuracy: 0.4412\n",
            "Epoch 81/100\n",
            "1/1 [==============================] - 0s 39ms/step - loss: 0.0248 - accuracy: 1.0000 - val_loss: 0.7623 - val_accuracy: 0.4412\n",
            "Epoch 82/100\n",
            "1/1 [==============================] - 0s 35ms/step - loss: 0.0240 - accuracy: 1.0000 - val_loss: 0.7657 - val_accuracy: 0.4412\n",
            "Epoch 83/100\n",
            "1/1 [==============================] - 0s 34ms/step - loss: 0.0233 - accuracy: 1.0000 - val_loss: 0.7691 - val_accuracy: 0.4412\n",
            "Epoch 84/100\n",
            "1/1 [==============================] - 0s 32ms/step - loss: 0.0226 - accuracy: 1.0000 - val_loss: 0.7726 - val_accuracy: 0.4412\n",
            "Epoch 85/100\n",
            "1/1 [==============================] - 0s 27ms/step - loss: 0.0219 - accuracy: 1.0000 - val_loss: 0.7761 - val_accuracy: 0.4412\n",
            "Epoch 86/100\n",
            "1/1 [==============================] - 0s 28ms/step - loss: 0.0212 - accuracy: 1.0000 - val_loss: 0.7796 - val_accuracy: 0.4412\n",
            "Epoch 87/100\n",
            "1/1 [==============================] - 0s 37ms/step - loss: 0.0206 - accuracy: 1.0000 - val_loss: 0.7831 - val_accuracy: 0.4118\n",
            "Epoch 88/100\n",
            "1/1 [==============================] - 0s 30ms/step - loss: 0.0200 - accuracy: 1.0000 - val_loss: 0.7867 - val_accuracy: 0.4118\n",
            "Epoch 89/100\n",
            "1/1 [==============================] - 0s 32ms/step - loss: 0.0194 - accuracy: 1.0000 - val_loss: 0.7901 - val_accuracy: 0.4118\n",
            "Epoch 90/100\n",
            "1/1 [==============================] - 0s 32ms/step - loss: 0.0189 - accuracy: 1.0000 - val_loss: 0.7935 - val_accuracy: 0.4118\n",
            "Epoch 91/100\n",
            "1/1 [==============================] - 0s 32ms/step - loss: 0.0184 - accuracy: 1.0000 - val_loss: 0.7969 - val_accuracy: 0.4118\n",
            "Epoch 92/100\n",
            "1/1 [==============================] - 0s 35ms/step - loss: 0.0179 - accuracy: 1.0000 - val_loss: 0.8002 - val_accuracy: 0.4118\n",
            "Epoch 93/100\n",
            "1/1 [==============================] - 0s 32ms/step - loss: 0.0174 - accuracy: 1.0000 - val_loss: 0.8034 - val_accuracy: 0.4118\n",
            "Epoch 94/100\n",
            "1/1 [==============================] - 0s 30ms/step - loss: 0.0169 - accuracy: 1.0000 - val_loss: 0.8065 - val_accuracy: 0.4118\n",
            "Epoch 95/100\n",
            "1/1 [==============================] - 0s 30ms/step - loss: 0.0164 - accuracy: 1.0000 - val_loss: 0.8097 - val_accuracy: 0.4118\n",
            "Epoch 96/100\n",
            "1/1 [==============================] - 0s 30ms/step - loss: 0.0160 - accuracy: 1.0000 - val_loss: 0.8130 - val_accuracy: 0.4118\n",
            "Epoch 97/100\n",
            "1/1 [==============================] - 0s 31ms/step - loss: 0.0156 - accuracy: 1.0000 - val_loss: 0.8162 - val_accuracy: 0.4118\n",
            "Epoch 98/100\n",
            "1/1 [==============================] - 0s 33ms/step - loss: 0.0152 - accuracy: 1.0000 - val_loss: 0.8193 - val_accuracy: 0.4118\n",
            "Epoch 99/100\n",
            "1/1 [==============================] - 0s 33ms/step - loss: 0.0148 - accuracy: 1.0000 - val_loss: 0.8225 - val_accuracy: 0.4118\n",
            "Epoch 100/100\n",
            "1/1 [==============================] - 0s 43ms/step - loss: 0.0144 - accuracy: 1.0000 - val_loss: 0.8256 - val_accuracy: 0.4412\n"
          ]
        },
        {
          "output_type": "display_data",
          "data": {
            "image/png": "[encoded data removed]",
            "text/plain": [
              "<Figure size 432x288 with 1 Axes>"
            ]
          },
          "metadata": {
            "needs_background": "light"
          }
        },
        {
          "output_type": "display_data",
          "data": {
            "image/png": "[encoded data removed]",
            "text/plain": [
              "<Figure size 432x288 with 1 Axes>"
            ]
          },
          "metadata": {
            "needs_background": "light"
          }
        }
      ]
    },
    {
      "cell_type": "code",
      "metadata": {
        "id": "0FSmNr34dMxw",
        "colab": {
          "base_uri": "https://localhost:8080/",
          "height": 1000
        },
        "outputId": "0a0f0330-a2cc-4e27-f4e1-8789bdb83475"
      },
      "source": [
        "model = Sequential()\n",
        "\n",
        "# Добавляем слой пакетной нормализации\n",
        "# Теперь input_shape=(784, ) надо указывать в нём\n",
        "# А не в первом полносвязном слое\n",
        "model.add(Dense(60, activation='relu'))\n",
        "model.add(BatchNormalization())\n",
        "model.add(Dropout(0.3))\n",
        "model.add(Dense(30, activation='relu'))\n",
        "model.add(BatchNormalization())\n",
        "model.add(Dropout(0.3))\n",
        "model.add(Dense(1, activation='sigmoid'))\n",
        "\n",
        "model.compile(loss='binary_crossentropy', optimizer=Adam(lr=0.001), metrics=['accuracy'])\n",
        "\n",
        "history = model.fit(x_train, \n",
        "                    y_train, \n",
        "                    batch_size=200, \n",
        "                    epochs=100,\n",
        "                    validation_split=0.2,\n",
        "                    verbose=1)\n",
        "\n",
        "plt.plot(history.history['accuracy'], \n",
        "         label='Доля верных ответов на обучающем наборе')\n",
        "plt.plot(history.history['val_accuracy'], \n",
        "         label='Доля верных ответов на проверочном наборе')\n",
        "plt.xlabel('Эпоха обучения')\n",
        "plt.ylabel('Доля верных ответов')\n",
        "plt.legend()\n",
        "plt.show()\n",
        "\n",
        "# Выводим графики ошибки\n",
        "plt.plot(history.history['loss'], \n",
        "         label='Ошибка на обучающем наборе')\n",
        "plt.plot(history.history['val_loss'], \n",
        "         label='Ошибка на проверочном наборе')\n",
        "plt.xlabel('Эпоха обучения')\n",
        "plt.ylabel('Ошибка')\n",
        "plt.legend()\n",
        "plt.show()"
      ],
      "execution_count": null,
      "outputs": [
        {
          "output_type": "stream",
          "text": [
            "Epoch 1/100\n",
            "1/1 [==============================] - 0s 181ms/step - loss: 1.0839 - accuracy: 0.3939 - val_loss: 0.6784 - val_accuracy: 0.5882\n",
            "Epoch 2/100\n",
            "1/1 [==============================] - 0s 27ms/step - loss: 1.0267 - accuracy: 0.4848 - val_loss: 0.6772 - val_accuracy: 0.5588\n",
            "Epoch 3/100\n",
            "1/1 [==============================] - 0s 24ms/step - loss: 0.9229 - accuracy: 0.4848 - val_loss: 0.6762 - val_accuracy: 0.6176\n",
            "Epoch 4/100\n",
            "1/1 [==============================] - 0s 23ms/step - loss: 1.0738 - accuracy: 0.4242 - val_loss: 0.6753 - val_accuracy: 0.5882\n",
            "Epoch 5/100\n",
            "1/1 [==============================] - 0s 25ms/step - loss: 0.8044 - accuracy: 0.5455 - val_loss: 0.6743 - val_accuracy: 0.5588\n",
            "Epoch 6/100\n",
            "1/1 [==============================] - 0s 23ms/step - loss: 0.8772 - accuracy: 0.5682 - val_loss: 0.6735 - val_accuracy: 0.5588\n",
            "Epoch 7/100\n",
            "1/1 [==============================] - 0s 27ms/step - loss: 0.8145 - accuracy: 0.5530 - val_loss: 0.6729 - val_accuracy: 0.5294\n",
            "Epoch 8/100\n",
            "1/1 [==============================] - 0s 23ms/step - loss: 0.7828 - accuracy: 0.5758 - val_loss: 0.6724 - val_accuracy: 0.5294\n",
            "Epoch 9/100\n",
            "1/1 [==============================] - 0s 23ms/step - loss: 0.7843 - accuracy: 0.5909 - val_loss: 0.6721 - val_accuracy: 0.5294\n",
            "Epoch 10/100\n",
            "1/1 [==============================] - 0s 29ms/step - loss: 0.7532 - accuracy: 0.5758 - val_loss: 0.6720 - val_accuracy: 0.5294\n",
            "Epoch 11/100\n",
            "1/1 [==============================] - 0s 25ms/step - loss: 0.7434 - accuracy: 0.5379 - val_loss: 0.6720 - val_accuracy: 0.5294\n",
            "Epoch 12/100\n",
            "1/1 [==============================] - 0s 25ms/step - loss: 0.7699 - accuracy: 0.5833 - val_loss: 0.6719 - val_accuracy: 0.5294\n",
            "Epoch 13/100\n",
            "1/1 [==============================] - 0s 24ms/step - loss: 0.6836 - accuracy: 0.6667 - val_loss: 0.6719 - val_accuracy: 0.5294\n",
            "Epoch 14/100\n",
            "1/1 [==============================] - 0s 26ms/step - loss: 0.5726 - accuracy: 0.7045 - val_loss: 0.6720 - val_accuracy: 0.5294\n",
            "Epoch 15/100\n",
            "1/1 [==============================] - 0s 23ms/step - loss: 0.6660 - accuracy: 0.6970 - val_loss: 0.6723 - val_accuracy: 0.5294\n",
            "Epoch 16/100\n",
            "1/1 [==============================] - 0s 25ms/step - loss: 0.5884 - accuracy: 0.6970 - val_loss: 0.6727 - val_accuracy: 0.5294\n",
            "Epoch 17/100\n",
            "1/1 [==============================] - 0s 23ms/step - loss: 0.5325 - accuracy: 0.7803 - val_loss: 0.6731 - val_accuracy: 0.5294\n",
            "Epoch 18/100\n",
            "1/1 [==============================] - 0s 26ms/step - loss: 0.5567 - accuracy: 0.7273 - val_loss: 0.6736 - val_accuracy: 0.5294\n",
            "Epoch 19/100\n",
            "1/1 [==============================] - 0s 25ms/step - loss: 0.5113 - accuracy: 0.7727 - val_loss: 0.6741 - val_accuracy: 0.5294\n",
            "Epoch 20/100\n",
            "1/1 [==============================] - 0s 21ms/step - loss: 0.4360 - accuracy: 0.7803 - val_loss: 0.6746 - val_accuracy: 0.5294\n",
            "Epoch 21/100\n",
            "1/1 [==============================] - 0s 21ms/step - loss: 0.5514 - accuracy: 0.7424 - val_loss: 0.6751 - val_accuracy: 0.5294\n",
            "Epoch 22/100\n",
            "1/1 [==============================] - 0s 21ms/step - loss: 0.5673 - accuracy: 0.7576 - val_loss: 0.6758 - val_accuracy: 0.5294\n",
            "Epoch 23/100\n",
            "1/1 [==============================] - 0s 21ms/step - loss: 0.5834 - accuracy: 0.6742 - val_loss: 0.6765 - val_accuracy: 0.5294\n",
            "Epoch 24/100\n",
            "1/1 [==============================] - 0s 23ms/step - loss: 0.4852 - accuracy: 0.7500 - val_loss: 0.6772 - val_accuracy: 0.5294\n",
            "Epoch 25/100\n",
            "1/1 [==============================] - 0s 21ms/step - loss: 0.4964 - accuracy: 0.7348 - val_loss: 0.6779 - val_accuracy: 0.5294\n",
            "Epoch 26/100\n",
            "1/1 [==============================] - 0s 23ms/step - loss: 0.4267 - accuracy: 0.7955 - val_loss: 0.6787 - val_accuracy: 0.5294\n",
            "Epoch 27/100\n",
            "1/1 [==============================] - 0s 23ms/step - loss: 0.4602 - accuracy: 0.7803 - val_loss: 0.6795 - val_accuracy: 0.5294\n",
            "Epoch 28/100\n",
            "1/1 [==============================] - 0s 21ms/step - loss: 0.4161 - accuracy: 0.8409 - val_loss: 0.6803 - val_accuracy: 0.5294\n",
            "Epoch 29/100\n",
            "1/1 [==============================] - 0s 21ms/step - loss: 0.4271 - accuracy: 0.7879 - val_loss: 0.6810 - val_accuracy: 0.5294\n",
            "Epoch 30/100\n",
            "1/1 [==============================] - 0s 21ms/step - loss: 0.4209 - accuracy: 0.7955 - val_loss: 0.6816 - val_accuracy: 0.5294\n",
            "Epoch 31/100\n",
            "1/1 [==============================] - 0s 25ms/step - loss: 0.4057 - accuracy: 0.7955 - val_loss: 0.6822 - val_accuracy: 0.5294\n",
            "Epoch 32/100\n",
            "1/1 [==============================] - 0s 27ms/step - loss: 0.3949 - accuracy: 0.7803 - val_loss: 0.6828 - val_accuracy: 0.5294\n",
            "Epoch 33/100\n",
            "1/1 [==============================] - 0s 21ms/step - loss: 0.4148 - accuracy: 0.7879 - val_loss: 0.6833 - val_accuracy: 0.5294\n",
            "Epoch 34/100\n",
            "1/1 [==============================] - 0s 21ms/step - loss: 0.4230 - accuracy: 0.8182 - val_loss: 0.6837 - val_accuracy: 0.5294\n",
            "Epoch 35/100\n",
            "1/1 [==============================] - 0s 21ms/step - loss: 0.3914 - accuracy: 0.8333 - val_loss: 0.6840 - val_accuracy: 0.5294\n",
            "Epoch 36/100\n",
            "1/1 [==============================] - 0s 21ms/step - loss: 0.4486 - accuracy: 0.7727 - val_loss: 0.6845 - val_accuracy: 0.5294\n",
            "Epoch 37/100\n",
            "1/1 [==============================] - 0s 21ms/step - loss: 0.4235 - accuracy: 0.8258 - val_loss: 0.6849 - val_accuracy: 0.5294\n",
            "Epoch 38/100\n",
            "1/1 [==============================] - 0s 23ms/step - loss: 0.4085 - accuracy: 0.8030 - val_loss: 0.6851 - val_accuracy: 0.5294\n",
            "Epoch 39/100\n",
            "1/1 [==============================] - 0s 22ms/step - loss: 0.4136 - accuracy: 0.8106 - val_loss: 0.6851 - val_accuracy: 0.5294\n",
            "Epoch 40/100\n",
            "1/1 [==============================] - 0s 22ms/step - loss: 0.3777 - accuracy: 0.8409 - val_loss: 0.6851 - val_accuracy: 0.5294\n",
            "Epoch 41/100\n",
            "1/1 [==============================] - 0s 22ms/step - loss: 0.3078 - accuracy: 0.8864 - val_loss: 0.6849 - val_accuracy: 0.5294\n",
            "Epoch 42/100\n",
            "1/1 [==============================] - 0s 21ms/step - loss: 0.3152 - accuracy: 0.8939 - val_loss: 0.6849 - val_accuracy: 0.5294\n",
            "Epoch 43/100\n",
            "1/1 [==============================] - 0s 22ms/step - loss: 0.3546 - accuracy: 0.8485 - val_loss: 0.6846 - val_accuracy: 0.5294\n",
            "Epoch 44/100\n",
            "1/1 [==============================] - 0s 22ms/step - loss: 0.3203 - accuracy: 0.8636 - val_loss: 0.6843 - val_accuracy: 0.5294\n",
            "Epoch 45/100\n",
            "1/1 [==============================] - 0s 22ms/step - loss: 0.3151 - accuracy: 0.8712 - val_loss: 0.6842 - val_accuracy: 0.5294\n",
            "Epoch 46/100\n",
            "1/1 [==============================] - 0s 22ms/step - loss: 0.3533 - accuracy: 0.8485 - val_loss: 0.6839 - val_accuracy: 0.5294\n",
            "Epoch 47/100\n",
            "1/1 [==============================] - 0s 31ms/step - loss: 0.3509 - accuracy: 0.8182 - val_loss: 0.6838 - val_accuracy: 0.5294\n",
            "Epoch 48/100\n",
            "1/1 [==============================] - 0s 22ms/step - loss: 0.3002 - accuracy: 0.9015 - val_loss: 0.6839 - val_accuracy: 0.5294\n",
            "Epoch 49/100\n",
            "1/1 [==============================] - 0s 23ms/step - loss: 0.3692 - accuracy: 0.8182 - val_loss: 0.6839 - val_accuracy: 0.5294\n",
            "Epoch 50/100\n",
            "1/1 [==============================] - 0s 25ms/step - loss: 0.3722 - accuracy: 0.8258 - val_loss: 0.6839 - val_accuracy: 0.5294\n",
            "Epoch 51/100\n",
            "1/1 [==============================] - 0s 23ms/step - loss: 0.3382 - accuracy: 0.8485 - val_loss: 0.6836 - val_accuracy: 0.5294\n",
            "Epoch 52/100\n",
            "1/1 [==============================] - 0s 23ms/step - loss: 0.2945 - accuracy: 0.8864 - val_loss: 0.6832 - val_accuracy: 0.5294\n",
            "Epoch 53/100\n",
            "1/1 [==============================] - 0s 22ms/step - loss: 0.2851 - accuracy: 0.8636 - val_loss: 0.6828 - val_accuracy: 0.5294\n",
            "Epoch 54/100\n",
            "1/1 [==============================] - 0s 23ms/step - loss: 0.3532 - accuracy: 0.8182 - val_loss: 0.6824 - val_accuracy: 0.5294\n",
            "Epoch 55/100\n",
            "1/1 [==============================] - 0s 21ms/step - loss: 0.3271 - accuracy: 0.8636 - val_loss: 0.6822 - val_accuracy: 0.5294\n",
            "Epoch 56/100\n",
            "1/1 [==============================] - 0s 21ms/step - loss: 0.3149 - accuracy: 0.8636 - val_loss: 0.6816 - val_accuracy: 0.5294\n",
            "Epoch 57/100\n",
            "1/1 [==============================] - 0s 22ms/step - loss: 0.3067 - accuracy: 0.8939 - val_loss: 0.6813 - val_accuracy: 0.5294\n",
            "Epoch 58/100\n",
            "1/1 [==============================] - 0s 21ms/step - loss: 0.3017 - accuracy: 0.8788 - val_loss: 0.6809 - val_accuracy: 0.5294\n",
            "Epoch 59/100\n",
            "1/1 [==============================] - 0s 23ms/step - loss: 0.3250 - accuracy: 0.8636 - val_loss: 0.6804 - val_accuracy: 0.5294\n",
            "Epoch 60/100\n",
            "1/1 [==============================] - 0s 28ms/step - loss: 0.2963 - accuracy: 0.8712 - val_loss: 0.6797 - val_accuracy: 0.5294\n",
            "Epoch 61/100\n",
            "1/1 [==============================] - 0s 25ms/step - loss: 0.2849 - accuracy: 0.8712 - val_loss: 0.6789 - val_accuracy: 0.5294\n",
            "Epoch 62/100\n",
            "1/1 [==============================] - 0s 21ms/step - loss: 0.2583 - accuracy: 0.9318 - val_loss: 0.6783 - val_accuracy: 0.5294\n",
            "Epoch 63/100\n",
            "1/1 [==============================] - 0s 21ms/step - loss: 0.2679 - accuracy: 0.9091 - val_loss: 0.6779 - val_accuracy: 0.5294\n",
            "Epoch 64/100\n",
            "1/1 [==============================] - 0s 27ms/step - loss: 0.2911 - accuracy: 0.9015 - val_loss: 0.6775 - val_accuracy: 0.5294\n",
            "Epoch 65/100\n",
            "1/1 [==============================] - 0s 21ms/step - loss: 0.2684 - accuracy: 0.8788 - val_loss: 0.6767 - val_accuracy: 0.5294\n",
            "Epoch 66/100\n",
            "1/1 [==============================] - 0s 21ms/step - loss: 0.2874 - accuracy: 0.9167 - val_loss: 0.6760 - val_accuracy: 0.5294\n",
            "Epoch 67/100\n",
            "1/1 [==============================] - 0s 22ms/step - loss: 0.2822 - accuracy: 0.8864 - val_loss: 0.6754 - val_accuracy: 0.5294\n",
            "Epoch 68/100\n",
            "1/1 [==============================] - 0s 26ms/step - loss: 0.3065 - accuracy: 0.8333 - val_loss: 0.6746 - val_accuracy: 0.5294\n",
            "Epoch 69/100\n",
            "1/1 [==============================] - 0s 22ms/step - loss: 0.3194 - accuracy: 0.8864 - val_loss: 0.6734 - val_accuracy: 0.5294\n",
            "Epoch 70/100\n",
            "1/1 [==============================] - 0s 23ms/step - loss: 0.2896 - accuracy: 0.8939 - val_loss: 0.6727 - val_accuracy: 0.5294\n",
            "Epoch 71/100\n",
            "1/1 [==============================] - 0s 21ms/step - loss: 0.2698 - accuracy: 0.9091 - val_loss: 0.6722 - val_accuracy: 0.5294\n",
            "Epoch 72/100\n",
            "1/1 [==============================] - 0s 29ms/step - loss: 0.2110 - accuracy: 0.9318 - val_loss: 0.6716 - val_accuracy: 0.5294\n",
            "Epoch 73/100\n",
            "1/1 [==============================] - 0s 23ms/step - loss: 0.2387 - accuracy: 0.8939 - val_loss: 0.6712 - val_accuracy: 0.5294\n",
            "Epoch 74/100\n",
            "1/1 [==============================] - 0s 23ms/step - loss: 0.2400 - accuracy: 0.9167 - val_loss: 0.6705 - val_accuracy: 0.5294\n",
            "Epoch 75/100\n",
            "1/1 [==============================] - 0s 21ms/step - loss: 0.2512 - accuracy: 0.9167 - val_loss: 0.6699 - val_accuracy: 0.5294\n",
            "Epoch 76/100\n",
            "1/1 [==============================] - 0s 29ms/step - loss: 0.2333 - accuracy: 0.9242 - val_loss: 0.6694 - val_accuracy: 0.5294\n",
            "Epoch 77/100\n",
            "1/1 [==============================] - 0s 21ms/step - loss: 0.2606 - accuracy: 0.9167 - val_loss: 0.6685 - val_accuracy: 0.5294\n",
            "Epoch 78/100\n",
            "1/1 [==============================] - 0s 21ms/step - loss: 0.3011 - accuracy: 0.8864 - val_loss: 0.6676 - val_accuracy: 0.5294\n",
            "Epoch 79/100\n",
            "1/1 [==============================] - 0s 20ms/step - loss: 0.2539 - accuracy: 0.9091 - val_loss: 0.6663 - val_accuracy: 0.5294\n",
            "Epoch 80/100\n",
            "1/1 [==============================] - 0s 22ms/step - loss: 0.2259 - accuracy: 0.9091 - val_loss: 0.6650 - val_accuracy: 0.5294\n",
            "Epoch 81/100\n",
            "1/1 [==============================] - 0s 21ms/step - loss: 0.2375 - accuracy: 0.9318 - val_loss: 0.6633 - val_accuracy: 0.5294\n",
            "Epoch 82/100\n",
            "1/1 [==============================] - 0s 21ms/step - loss: 0.2320 - accuracy: 0.9242 - val_loss: 0.6621 - val_accuracy: 0.5294\n",
            "Epoch 83/100\n",
            "1/1 [==============================] - 0s 25ms/step - loss: 0.2190 - accuracy: 0.9167 - val_loss: 0.6612 - val_accuracy: 0.5294\n",
            "Epoch 84/100\n",
            "1/1 [==============================] - 0s 23ms/step - loss: 0.3072 - accuracy: 0.8561 - val_loss: 0.6603 - val_accuracy: 0.5294\n",
            "Epoch 85/100\n",
            "1/1 [==============================] - 0s 23ms/step - loss: 0.2387 - accuracy: 0.8788 - val_loss: 0.6595 - val_accuracy: 0.5294\n",
            "Epoch 86/100\n",
            "1/1 [==============================] - 0s 21ms/step - loss: 0.2181 - accuracy: 0.8939 - val_loss: 0.6585 - val_accuracy: 0.5294\n",
            "Epoch 87/100\n",
            "1/1 [==============================] - 0s 23ms/step - loss: 0.2017 - accuracy: 0.9394 - val_loss: 0.6573 - val_accuracy: 0.5294\n",
            "Epoch 88/100\n",
            "1/1 [==============================] - 0s 21ms/step - loss: 0.2190 - accuracy: 0.9015 - val_loss: 0.6563 - val_accuracy: 0.5294\n",
            "Epoch 89/100\n",
            "1/1 [==============================] - 0s 20ms/step - loss: 0.2148 - accuracy: 0.9394 - val_loss: 0.6554 - val_accuracy: 0.5294\n",
            "Epoch 90/100\n",
            "1/1 [==============================] - 0s 29ms/step - loss: 0.1936 - accuracy: 0.9621 - val_loss: 0.6549 - val_accuracy: 0.5294\n",
            "Epoch 91/100\n",
            "1/1 [==============================] - 0s 21ms/step - loss: 0.2043 - accuracy: 0.9318 - val_loss: 0.6544 - val_accuracy: 0.5294\n",
            "Epoch 92/100\n",
            "1/1 [==============================] - 0s 20ms/step - loss: 0.2238 - accuracy: 0.9167 - val_loss: 0.6538 - val_accuracy: 0.5294\n",
            "Epoch 93/100\n",
            "1/1 [==============================] - 0s 21ms/step - loss: 0.2317 - accuracy: 0.9318 - val_loss: 0.6528 - val_accuracy: 0.5294\n",
            "Epoch 94/100\n",
            "1/1 [==============================] - 0s 21ms/step - loss: 0.2192 - accuracy: 0.9242 - val_loss: 0.6517 - val_accuracy: 0.5294\n",
            "Epoch 95/100\n",
            "1/1 [==============================] - 0s 24ms/step - loss: 0.2056 - accuracy: 0.8864 - val_loss: 0.6503 - val_accuracy: 0.5294\n",
            "Epoch 96/100\n",
            "1/1 [==============================] - 0s 27ms/step - loss: 0.1738 - accuracy: 0.9545 - val_loss: 0.6488 - val_accuracy: 0.5294\n",
            "Epoch 97/100\n",
            "1/1 [==============================] - 0s 26ms/step - loss: 0.2167 - accuracy: 0.9242 - val_loss: 0.6476 - val_accuracy: 0.5294\n",
            "Epoch 98/100\n",
            "1/1 [==============================] - 0s 25ms/step - loss: 0.2197 - accuracy: 0.9015 - val_loss: 0.6461 - val_accuracy: 0.5294\n",
            "Epoch 99/100\n",
            "1/1 [==============================] - 0s 28ms/step - loss: 0.2255 - accuracy: 0.9091 - val_loss: 0.6449 - val_accuracy: 0.5294\n",
            "Epoch 100/100\n",
            "1/1 [==============================] - 0s 25ms/step - loss: 0.2163 - accuracy: 0.9394 - val_loss: 0.6438 - val_accuracy: 0.5294\n"
          ],
          "name": "stdout"
        },
        {
          "output_type": "display_data",
          "data": {
            "image/png": "[encoded data removed]",
            "text/plain": [
              "<Figure size 432x288 with 1 Axes>"
            ]
          },
          "metadata": {
            "tags": [],
            "needs_background": "light"
          }
        },
        {
          "output_type": "display_data",
          "data": {
            "image/png": "[encoded data removed]",
            "text/plain": [
              "<Figure size 432x288 with 1 Axes>"
            ]
          },
          "metadata": {
            "tags": [],
            "needs_background": "light"
          }
        }
      ]
    },
    {
      "cell_type": "markdown",
      "metadata": {
        "id": "Sx9naxEGycrZ"
      },
      "source": [
        "# Предсказание цен машин с Юлы\n",
        "\n",
        "*Разбор данного раздела:* https://youtu.be/ZNVupJXQisM?t=2386"
      ]
    },
    {
      "cell_type": "code",
      "metadata": {
        "id": "dtb_6dZxyf4r"
      },
      "source": [
        "# Загружаем файлы\n",
        "files.upload()\n",
        "!ls # Выводим содержимое корневой папки"
      ],
      "execution_count": null,
      "outputs": []
    },
    {
      "cell_type": "code",
      "metadata": {
        "id": "5v7Vz9VWynjF",
        "colab": {
          "base_uri": "https://localhost:8080/",
          "height": 204
        },
        "outputId": "893a88d5-bf9e-4c75-c745-7661c2a3fd7f"
      },
      "source": [
        "# Считываем csv с помощью pandas\n",
        "cars = pd.read_csv('cars_new.csv', sep=',')\n",
        "cars[:5] # Выводим первые 5 машин "
      ],
      "execution_count": null,
      "outputs": [
        {
          "output_type": "execute_result",
          "data": {
            "text/html": [
              "<div>\n",
              "<style scoped>\n",
              "    .dataframe tbody tr th:only-of-type {\n",
              "        vertical-align: middle;\n",
              "    }\n",
              "\n",
              "    .dataframe tbody tr th {\n",
              "        vertical-align: top;\n",
              "    }\n",
              "\n",
              "    .dataframe thead th {\n",
              "        text-align: right;\n",
              "    }\n",
              "</style>\n",
              "<table border=\"1\" class=\"dataframe\">\n",
              "  <thead>\n",
              "    <tr style=\"text-align: right;\">\n",
              "      <th></th>\n",
              "      <th>mark</th>\n",
              "      <th>model</th>\n",
              "      <th>price</th>\n",
              "      <th>year</th>\n",
              "      <th>mileage</th>\n",
              "      <th>body</th>\n",
              "      <th>kpp</th>\n",
              "      <th>fuel</th>\n",
              "      <th>volume</th>\n",
              "      <th>power</th>\n",
              "    </tr>\n",
              "  </thead>\n",
              "  <tbody>\n",
              "    <tr>\n",
              "      <th>0</th>\n",
              "      <td>kia</td>\n",
              "      <td>cerato</td>\n",
              "      <td>996000</td>\n",
              "      <td>2018</td>\n",
              "      <td>28000</td>\n",
              "      <td>седан</td>\n",
              "      <td>автомат</td>\n",
              "      <td>бензин</td>\n",
              "      <td>2.0</td>\n",
              "      <td>150.0</td>\n",
              "    </tr>\n",
              "    <tr>\n",
              "      <th>1</th>\n",
              "      <td>daewoo</td>\n",
              "      <td>nexia 1 поколение [2-й рестайлинг]</td>\n",
              "      <td>140200</td>\n",
              "      <td>2012</td>\n",
              "      <td>60500</td>\n",
              "      <td>седан</td>\n",
              "      <td>механика</td>\n",
              "      <td>бензин</td>\n",
              "      <td>1.5</td>\n",
              "      <td>80.0</td>\n",
              "    </tr>\n",
              "    <tr>\n",
              "      <th>2</th>\n",
              "      <td>suzuki</td>\n",
              "      <td>jimny 3 поколение [рестайлинг]</td>\n",
              "      <td>750000</td>\n",
              "      <td>2011</td>\n",
              "      <td>29000</td>\n",
              "      <td>внедорожник</td>\n",
              "      <td>автомат</td>\n",
              "      <td>бензин</td>\n",
              "      <td>1.3</td>\n",
              "      <td>85.0</td>\n",
              "    </tr>\n",
              "    <tr>\n",
              "      <th>3</th>\n",
              "      <td>bmw</td>\n",
              "      <td>x1 18 e84 [рестайлинг]</td>\n",
              "      <td>970000</td>\n",
              "      <td>2014</td>\n",
              "      <td>49500</td>\n",
              "      <td>кроссовер</td>\n",
              "      <td>автомат</td>\n",
              "      <td>бензин</td>\n",
              "      <td>2.0</td>\n",
              "      <td>150.0</td>\n",
              "    </tr>\n",
              "    <tr>\n",
              "      <th>4</th>\n",
              "      <td>chevrolet</td>\n",
              "      <td>lacetti 1 поколение</td>\n",
              "      <td>205000</td>\n",
              "      <td>2007</td>\n",
              "      <td>151445</td>\n",
              "      <td>седан</td>\n",
              "      <td>механика</td>\n",
              "      <td>бензин</td>\n",
              "      <td>1.4</td>\n",
              "      <td>95.0</td>\n",
              "    </tr>\n",
              "  </tbody>\n",
              "</table>\n",
              "</div>"
            ],
            "text/plain": [
              "        mark                               model   price  ...    fuel  volume  power\n",
              "0        kia                              cerato  996000  ...  бензин     2.0  150.0\n",
              "1     daewoo  nexia 1 поколение [2-й рестайлинг]  140200  ...  бензин     1.5   80.0\n",
              "2     suzuki      jimny 3 поколение [рестайлинг]  750000  ...  бензин     1.3   85.0\n",
              "3        bmw              x1 18 e84 [рестайлинг]  970000  ...  бензин     2.0  150.0\n",
              "4  chevrolet                 lacetti 1 поколение  205000  ...  бензин     1.4   95.0\n",
              "\n",
              "[5 rows x 10 columns]"
            ]
          },
          "metadata": {
            "tags": []
          },
          "execution_count": 26
        }
      ]
    },
    {
      "cell_type": "code",
      "metadata": {
        "id": "-2014jPoywVZ"
      },
      "source": [
        "print(cars.values.shape)"
      ],
      "execution_count": null,
      "outputs": []
    },
    {
      "cell_type": "code",
      "metadata": {
        "id": "w_3Pk5XeyxsT"
      },
      "source": [
        "# Создаём словарь поле - его индекс\n",
        "def create_dict(s):\n",
        "  ret = {}                          # Создаём пустой словарь\n",
        "  for _id, name in enumerate(s):    # Проходим по всем парам - id и название\n",
        "    ret.update({name: _id})         # Добавляем в словарь\n",
        "  return ret\n",
        "\n",
        "# Функция преобразования в one hot encoding\n",
        "def to_ohe(value, d):\n",
        "  arr = [0] * len(d)\n",
        "  arr[d[value]] = 1\n",
        "  return arr"
      ],
      "execution_count": null,
      "outputs": []
    },
    {
      "cell_type": "code",
      "metadata": {
        "id": "bUyCBzyYyz8s"
      },
      "source": [
        "# Создаём словари по всем текстовым колонкам\n",
        "marks_dict = create_dict(set(cars['mark']))\n",
        "models_dict = create_dict(set(cars['model']))\n",
        "bodies_dict = create_dict(set(cars['body']))\n",
        "kpps_dict = create_dict(set(cars['kpp']))\n",
        "fuels_dict = create_dict(set(cars['fuel']))\n",
        "\n",
        "# Запоминаем цены\n",
        "prices = np.array(cars['price'], dtype=np.float)\n",
        "\n",
        "# Запоминаем числовые параметры\n",
        "# и нормируем\n",
        "years = preprocessing.scale(cars['year'])\n",
        "mileages = preprocessing.scale(cars['mileage'])\n",
        "volumes = preprocessing.scale(cars['volume'])\n",
        "powers = preprocessing.scale(cars['power'])"
      ],
      "execution_count": null,
      "outputs": []
    },
    {
      "cell_type": "code",
      "metadata": {
        "id": "E_W73oeey1TF",
        "colab": {
          "base_uri": "https://localhost:8080/",
          "height": 54
        },
        "outputId": "47d08e39-3de3-4df1-a1fe-37188f93637a"
      },
      "source": [
        "print(marks_dict)"
      ],
      "execution_count": null,
      "outputs": [
        {
          "output_type": "stream",
          "text": [
            "{'bmw': 0, 'mercedes-benz': 1, 'hyundai': 2, 'mitsubishi': 3, 'ford': 4, 'toyota': 5, 'daewoo': 6, 'renault': 7, 'mazda': 8, 'nissan': 9, 'chevrolet': 10, 'suzuki': 11, 'peugeot': 12, 'kia': 13, 'skoda': 14, 'audi': 15, 'subaru': 16, 'volkswagen': 17, 'honda': 18, 'chery': 19, 'opel': 20}\n"
          ],
          "name": "stdout"
        }
      ]
    },
    {
      "cell_type": "code",
      "metadata": {
        "id": "ZnAwYOCmLbQc",
        "colab": {
          "base_uri": "https://localhost:8080/",
          "height": 34
        },
        "outputId": "866e1ff9-1173-4634-e20f-bd1c98cd4db2"
      },
      "source": [
        "years.mean()"
      ],
      "execution_count": null,
      "outputs": [
        {
          "output_type": "execute_result",
          "data": {
            "text/plain": [
              "7.129646144783743e-15"
            ]
          },
          "metadata": {
            "tags": []
          },
          "execution_count": 31
        }
      ]
    },
    {
      "cell_type": "code",
      "metadata": {
        "id": "_PJLhc-HLdDI",
        "colab": {
          "base_uri": "https://localhost:8080/",
          "height": 34
        },
        "outputId": "cc4f8020-0e70-4faf-ce87-84a90be7ea51"
      },
      "source": [
        "years.std()"
      ],
      "execution_count": null,
      "outputs": [
        {
          "output_type": "execute_result",
          "data": {
            "text/plain": [
              "1.0"
            ]
          },
          "metadata": {
            "tags": []
          },
          "execution_count": 32
        }
      ]
    },
    {
      "cell_type": "code",
      "metadata": {
        "id": "jHEPEcKfy4MV",
        "colab": {
          "base_uri": "https://localhost:8080/",
          "height": 51
        },
        "outputId": "19eaddc4-eb16-4bd0-8eb4-7ec70298c593"
      },
      "source": [
        "print(powers)"
      ],
      "execution_count": null,
      "outputs": [
        {
          "output_type": "stream",
          "text": [
            "[ 0.22905575 -0.95630346 -0.87163494 ...  0.22905575 -0.75309902\n",
            "  2.34576862]\n"
          ],
          "name": "stdout"
        }
      ]
    },
    {
      "cell_type": "code",
      "metadata": {
        "id": "fq_m4WUny4k3"
      },
      "source": [
        "# Создаём пустую обучающую выборку\n",
        "x_train = []\n",
        "y_train = []\n",
        "\n",
        "# Проходам по всем машинам\n",
        "for _id, car in enumerate(np.array(cars)):\n",
        "  # В y_train добавляем цену\n",
        "  y_train.append(prices[_id])\n",
        "  \n",
        "  # В x_train объединяем все параметры\n",
        "  # Категорийные параметры добавляем в виде ohe\n",
        "  # Числовые параметры добавляем напрямую\n",
        "  x_tr = to_ohe(car[0], marks_dict) + \\\n",
        "        to_ohe(car[1], models_dict) + \\\n",
        "        to_ohe(car[5], bodies_dict) + \\\n",
        "        to_ohe(car[6], kpps_dict) + \\\n",
        "        to_ohe(car[7], fuels_dict) + \\\n",
        "        [years[_id]] + \\\n",
        "        [mileages[_id]] + \\\n",
        "        [volumes[_id]] + \\\n",
        "        [powers[_id]]\n",
        "  \n",
        "  # Добавляем текущую строку в общий x_train\n",
        "  x_train.append(x_tr)\n",
        "\n",
        "# Превращаем лист в numpy.array\n",
        "x_train = np.array(x_train, dtype=np.float)\n",
        "y_train = np.array(y_train, dtype=np.float)"
      ],
      "execution_count": null,
      "outputs": []
    },
    {
      "cell_type": "code",
      "metadata": {
        "id": "S2IuqIWPy-nr",
        "colab": {
          "base_uri": "https://localhost:8080/",
          "height": 51
        },
        "outputId": "943a4e88-0e41-4219-cd4c-e5414bf019ad"
      },
      "source": [
        "# Выводим размеры выборок\n",
        "print(x_train.shape)\n",
        "print(y_train.shape)"
      ],
      "execution_count": null,
      "outputs": [
        {
          "output_type": "stream",
          "text": [
            "(70119, 3208)\n",
            "(70119,)\n"
          ],
          "name": "stdout"
        }
      ]
    },
    {
      "cell_type": "code",
      "metadata": {
        "id": "tyNIVawgzDX6",
        "colab": {
          "base_uri": "https://localhost:8080/",
          "height": 102
        },
        "outputId": "113da215-da18-4b65-ecfa-3b46d28fab37"
      },
      "source": [
        "# Выводим один x_train\n",
        "print(x_train[0,:20])\n",
        "print(x_train[0,-20:])"
      ],
      "execution_count": null,
      "outputs": [
        {
          "output_type": "stream",
          "text": [
            "[0. 0. 0. 0. 0. 0. 0. 0. 0. 0. 0. 0. 0. 1. 0. 0. 0. 0. 0. 0.]\n",
            "[ 0.          0.          0.          0.          0.          0.\n",
            "  0.          0.          0.          0.          1.          0.\n",
            "  0.          0.          0.          1.          1.5200145  -1.40018212\n",
            "  0.12288486  0.22905575]\n"
          ],
          "name": "stdout"
        }
      ]
    },
    {
      "cell_type": "code",
      "metadata": {
        "id": "E06CfFFtzE4b",
        "colab": {
          "base_uri": "https://localhost:8080/",
          "height": 51
        },
        "outputId": "83c99192-3364-424f-9ddf-35b922d8756a"
      },
      "source": [
        "# Выводим y_train\n",
        "print(y_train[:10])"
      ],
      "execution_count": null,
      "outputs": [
        {
          "output_type": "stream",
          "text": [
            "[ 996000.  140200.  750000.  970000.  205000.  985000.  589000.  500000.\n",
            " 1320000.  270000.]\n"
          ],
          "name": "stdout"
        }
      ]
    },
    {
      "cell_type": "code",
      "metadata": {
        "id": "tetSCI-BzITK"
      },
      "source": [
        "# Нормализуем y_train\n",
        "y_scaler = StandardScaler()\n",
        "y_train_scaled = y_scaler.fit_transform(y_train.reshape(-1,1)).flatten()\n",
        "\n",
        "# y_train.reshape(-1,1) добавляет одну размерность\n",
        "# Это нужно потому, что y_scaler.fit_transform\n",
        "# Требует двумерны вектор, массив примеров, которые надо нормализовать\n",
        "# Он не умеет работать с одним примеров\n",
        "# Поэтому мы делаем массив из одного примера\n",
        "# На выходе он так же выдаёт массив примеров\n",
        "# Но нам нужен только первый пример\n",
        "# Поэтому мы делаем flatten() - уменьшение размерности"
      ],
      "execution_count": null,
      "outputs": []
    },
    {
      "cell_type": "code",
      "metadata": {
        "id": "n3hq9mYkOEGK",
        "colab": {
          "base_uri": "https://localhost:8080/",
          "height": 34
        },
        "outputId": "f10dc443-28b5-44c8-8e35-90326f010cff"
      },
      "source": [
        "y_train_scaled.shape"
      ],
      "execution_count": null,
      "outputs": [
        {
          "output_type": "execute_result",
          "data": {
            "text/plain": [
              "(70119,)"
            ]
          },
          "metadata": {
            "tags": []
          },
          "execution_count": 39
        }
      ]
    },
    {
      "cell_type": "code",
      "metadata": {
        "id": "v2k03NYbzI6q",
        "colab": {
          "base_uri": "https://localhost:8080/",
          "height": 85
        },
        "outputId": "fad4f600-398a-4b7e-f2fc-f7c802f34749"
      },
      "source": [
        "# Выводим базовый и нормированный y_train\n",
        "print(y_train[:10])\n",
        "print(y_train_scaled[:10])"
      ],
      "execution_count": null,
      "outputs": [
        {
          "output_type": "stream",
          "text": [
            "[ 996000.  140200.  750000.  970000.  205000.  985000.  589000.  500000.\n",
            " 1320000.  270000.]\n",
            "[ 0.75082432 -0.62135434  0.3563911   0.70913625 -0.51745486  0.73318706\n",
            "  0.09824578 -0.04445567  1.27032173 -0.4132347 ]\n"
          ],
          "name": "stdout"
        }
      ]
    },
    {
      "cell_type": "code",
      "metadata": {
        "id": "nRhXUb0TCbUp"
      },
      "source": [
        "model_ula = Sequential()\n",
        "model_ula.add(Dense(300, activation = 'relu', input_shape = x_train.shape[1:]))\n",
        "model_ula.add(Dense(100, activation = 'relu'))\n",
        "model_ula.add(Dense(1))\n",
        "model_ula.compile(optimizer = 'adam', loss = 'mse', metrics = ['mae'])\n",
        "# training\n",
        "model_ula.fit(x_train, y_train_scaled, epochs = 20, batch_size = 32, validation_split = 0.1)\n",
        "\n",
        "predict = model_ula.predict(x_test)\n"
      ],
      "execution_count": null,
      "outputs": []
    },
    {
      "cell_type": "markdown",
      "metadata": {
        "id": "6CTlj7a_4JT9"
      },
      "source": [
        "# Глоссарий"
      ]
    },
    {
      "cell_type": "markdown",
      "metadata": {
        "id": "mov1Ulbj4OQp"
      },
      "source": [
        "**Типы выборок:**\n",
        "\n",
        "*   *Обучающая выборка* - основной набор данных, на котором происходит обучение нейронной сети\n",
        "*   *Проверочная выборка* - набор данных, на котором отслеживается качество работы сети в процессе обучения\n",
        "*   *Тестовая выборка* - контрольный набор данных, на котором проверяется качество работы обученной сети\n",
        "\n",
        "\n",
        "\n",
        "**Способы формирования проверочной выборки:**\n",
        "\n",
        "\n",
        "*   validation_split - указываем процент от обучающей выборки, который будет использоваться в качестве проверочной\n",
        "*   validation_data - указываем готовые наборы данных, которые будут использоваться в качестве проверочной выборки\n",
        "\n",
        "**Переобучение сети** - ситуация, при которой сеть \"заучила\" исходную обучающую выборку и не способна производить обобщение данных (верно распознавать данные из проверочных и тестовых наборов)\n",
        "\n",
        "**Способы преодоления переобучения:**\n",
        "\n",
        "\n",
        "*   Dropout - принудительное \"отключение\" случайного числа нейронов\n",
        "*   BatchNormalization - нормализация данных на выходе слоя\n",
        "\n",
        "**StandardScaler** - класс нормализации данных (приводит переданный набор числовых данных к нормальному распределению)\n",
        "\n"
      ]
    }
  ]
}