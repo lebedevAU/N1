{
  "nbformat": 4,
  "nbformat_minor": 0,
  "metadata": {
    "colab": {
      "name": "ДЗ  Введение в нейронные сети.ipynb",
      "provenance": [],
      "collapsed_sections": [],
      "authorship_tag": "ABX9TyOvRrWWRqjFDXJK0fft8gON",
      "include_colab_link": true
    },
    "kernelspec": {
      "name": "python3",
      "display_name": "Python 3"
    },
    "language_info": {
      "name": "python"
    }
  },
  "cells": [
    {
      "cell_type": "markdown",
      "metadata": {
        "id": "view-in-github",
        "colab_type": "text"
      },
      "source": [
        "<a href=\"https://colab.research.google.com/github/lebedevAU/N1/blob/main/%D0%94%D0%97_%D0%92%D0%B2%D0%B5%D0%B4%D0%B5%D0%BD%D0%B8%D0%B5_%D0%B2_%D0%BD%D0%B5%D0%B9%D1%80%D0%BE%D0%BD%D0%BD%D1%8B%D0%B5_%D1%81%D0%B5%D1%82%D0%B8.ipynb\" target=\"_parent\"><img src=\"https://colab.research.google.com/assets/colab-badge.svg\" alt=\"Open In Colab\"/></a>"
      ]
    },
    {
      "cell_type": "code",
      "metadata": {
        "id": "HTq-7LfG27Dv"
      },
      "source": [
        "from tensorflow.keras.datasets import mnist #Библиотека с базой Mnist\n",
        "from tensorflow.keras.models import Sequential # Подлючаем класс создания модели Sequential\n",
        "from tensorflow.keras.layers import Dense # Подключаем класс Dense - полносвязный слой\n",
        "from tensorflow.keras.optimizers import Adam # Подключаем оптимизатор Adam\n",
        "from tensorflow.keras import utils #Утилиты для to_categorical\n",
        "from tensorflow.keras.preprocessing import image #Для отрисовки изображения\n",
        "import numpy as np # Подключаем библиотеку numpy\n",
        "import pylab # Модуль для построения графиков\n",
        "from mpl_toolkits.mplot3d import Axes3D # Модуль для трехмерной графики\n",
        "from google.colab import files #Для загрузки своей картинки\n",
        "import matplotlib.pyplot as plt #Отрисовка изображений\n",
        "from PIL import Image #Отрисовка изображений\n",
        "#Отрисовывать изображения в ноутбуке, а не в консоль или файл\n",
        "%matplotlib inline "
      ],
      "execution_count": 3,
      "outputs": []
    },
    {
      "cell_type": "code",
      "metadata": {
        "colab": {
          "base_uri": "https://localhost:8080/"
        },
        "id": "UhroCxJAufwz",
        "outputId": "5e2794de-94f2-4401-b856-625665c465d8"
      },
      "source": [
        "from google.colab import drive\n",
        "drive.mount('/content/drive/')"
      ],
      "execution_count": 4,
      "outputs": [
        {
          "output_type": "stream",
          "name": "stdout",
          "text": [
            "Mounted at /content/drive/\n"
          ]
        }
      ]
    },
    {
      "cell_type": "markdown",
      "metadata": {
        "id": "QAdbnKH74A40"
      },
      "source": [
        "\n",
        "Распознайте рукописную цифру, созданную вами с помощью графического редактора (например, Paint).\n",
        "\n",
        "Последовательность шагов:\n",
        "1. В графическом редакторе рисуем произвольную цифру.\n",
        "2. Сохраняем документ и загружаем его в Colaboratory.\n",
        "3. С помощью функции image.load_img(path, target_size=(28, 28), color_mode = ‘grayscale’) загружаем картинку в переменную.\n",
        "4. С помощью функции image.img_to_array(img) преобразуем изображение в numpy-массив.\n",
        "5. Выполняем инверсию цветов, нормирование и решейп массива.\n",
        "6. Выполняем распознавание собственной рукописной цифры."
      ]
    },
    {
      "cell_type": "code",
      "metadata": {
        "id": "r_xYhNnT4Kr7"
      },
      "source": [
        "#image.load_img(path, target_size=(28, 28), color_mode = \"grayscale\")\n",
        "imgU = image.load_img(\"/content/drive/My Drive/5.jpg\", target_size=(28, 28), color_mode=\"grayscale\")\n",
        "#хер зная почему grayscale не работает, возможно из-за того что картинка уже grayscale \n",
        "image.img_to_array(imgU) \n",
        "imgU = np.asarray(imgU)\n",
        "#imgU = Image.img_to_array(imgU)\n"
      ],
      "execution_count": 32,
      "outputs": []
    },
    {
      "cell_type": "code",
      "metadata": {
        "colab": {
          "base_uri": "https://localhost:8080/"
        },
        "id": "VzYtBs0tV7sq",
        "outputId": "35e61d1c-99b1-49f4-ead0-f418b957b8c8"
      },
      "source": [
        "print(type(imgU))"
      ],
      "execution_count": 33,
      "outputs": [
        {
          "output_type": "stream",
          "name": "stdout",
          "text": [
            "<class 'numpy.ndarray'>\n"
          ]
        }
      ]
    },
    {
      "cell_type": "code",
      "metadata": {
        "colab": {
          "base_uri": "https://localhost:8080/"
        },
        "id": "MBtt6roVzGP1",
        "outputId": "81736c87-c811-4c56-c499-d936be4aef2a"
      },
      "source": [
        "model = Sequential() # Создаем класс модели\n",
        "model.add(Dense(800, input_dim=784, activation='linear', use_bias=False))\n",
        "model.add(Dense(400, input_dim=784, activation='linear', use_bias=False))\n",
        "model.add(Dense(200, input_dim=784, activation='linear', use_bias=False))\n",
        "model.add(Dense(10, activation=\"softmax\"))\n",
        "model.compile(optimizer=Adam(0.001), loss='mse') \n",
        "start_weights = model.get_weights()\n",
        "model.compile(loss=\"categorical_crossentropy\", optimizer=\"adam\", metrics=[\"accuracy\"]) # Компилируем модель\n",
        "print(model.summary()) #Вывод структуры модели"
      ],
      "execution_count": 11,
      "outputs": [
        {
          "output_type": "stream",
          "name": "stdout",
          "text": [
            "Model: \"sequential\"\n",
            "_________________________________________________________________\n",
            "Layer (type)                 Output Shape              Param #   \n",
            "=================================================================\n",
            "dense (Dense)                (None, 800)               627200    \n",
            "_________________________________________________________________\n",
            "dense_1 (Dense)              (None, 400)               320000    \n",
            "_________________________________________________________________\n",
            "dense_2 (Dense)              (None, 200)               80000     \n",
            "_________________________________________________________________\n",
            "dense_3 (Dense)              (None, 10)                2010      \n",
            "=================================================================\n",
            "Total params: 1,029,210\n",
            "Trainable params: 1,029,210\n",
            "Non-trainable params: 0\n",
            "_________________________________________________________________\n",
            "None\n"
          ]
        }
      ]
    },
    {
      "cell_type": "code",
      "metadata": {
        "colab": {
          "base_uri": "https://localhost:8080/"
        },
        "id": "cjFao40DStRq",
        "outputId": "dca580a2-297e-4c05-e346-4e998bd5448c"
      },
      "source": [
        "(x_train, y_train), (x_test, y_test) = mnist.load_data()"
      ],
      "execution_count": 12,
      "outputs": [
        {
          "output_type": "stream",
          "name": "stdout",
          "text": [
            "Downloading data from https://storage.googleapis.com/tensorflow/tf-keras-datasets/mnist.npz\n",
            "11493376/11490434 [==============================] - 0s 0us/step\n",
            "11501568/11490434 [==============================] - 0s 0us/step\n"
          ]
        }
      ]
    },
    {
      "cell_type": "code",
      "metadata": {
        "colab": {
          "base_uri": "https://localhost:8080/"
        },
        "id": "qO_lyyeTSWJN",
        "outputId": "ad27a0b9-2787-40dd-8f43-b29e83c17b10"
      },
      "source": [
        "x_train = x_train.reshape(60000, 784)\n",
        "x_test = x_test.reshape(10000, 784)\n",
        "print(x_train.shape)\n",
        "print(x_train.shape)"
      ],
      "execution_count": 27,
      "outputs": [
        {
          "output_type": "stream",
          "name": "stdout",
          "text": [
            "(60000, 784)\n",
            "(60000, 784)\n"
          ]
        }
      ]
    },
    {
      "cell_type": "code",
      "metadata": {
        "colab": {
          "base_uri": "https://localhost:8080/"
        },
        "id": "qzoYB1xjzJUq",
        "outputId": "a98ec437-e32c-4b6d-d080-79fcfcd86542"
      },
      "source": [
        "model.summary() # Отобразим данные созданной модели\n",
        "(x_train, y_train), (x_test, y_test) = mnist.load_data()\n"
      ],
      "execution_count": 14,
      "outputs": [
        {
          "output_type": "stream",
          "name": "stdout",
          "text": [
            "Model: \"sequential\"\n",
            "_________________________________________________________________\n",
            "Layer (type)                 Output Shape              Param #   \n",
            "=================================================================\n",
            "dense (Dense)                (None, 800)               627200    \n",
            "_________________________________________________________________\n",
            "dense_1 (Dense)              (None, 400)               320000    \n",
            "_________________________________________________________________\n",
            "dense_2 (Dense)              (None, 200)               80000     \n",
            "_________________________________________________________________\n",
            "dense_3 (Dense)              (None, 10)                2010      \n",
            "=================================================================\n",
            "Total params: 1,029,210\n",
            "Trainable params: 1,029,210\n",
            "Non-trainable params: 0\n",
            "_________________________________________________________________\n"
          ]
        }
      ]
    },
    {
      "cell_type": "code",
      "metadata": {
        "colab": {
          "base_uri": "https://localhost:8080/"
        },
        "id": "uEqcmaTwxguy",
        "outputId": "5757a7d2-3fec-4a0d-f74c-0e83d8f654f8"
      },
      "source": [
        "\n",
        "print(x_train.shape)\n",
        "print(x_train.shape)"
      ],
      "execution_count": 15,
      "outputs": [
        {
          "output_type": "stream",
          "name": "stdout",
          "text": [
            "(60000, 28, 28)\n",
            "(60000, 28, 28)\n"
          ]
        }
      ]
    },
    {
      "cell_type": "code",
      "metadata": {
        "colab": {
          "base_uri": "https://localhost:8080/",
          "height": 323
        },
        "id": "MaNBzPoWWcFG",
        "outputId": "12f9fb6b-4944-4cbf-920d-4f3eaf778b3b"
      },
      "source": [
        "n = 1 #Номер картинки\n",
        "plt.imshow(Image.fromarray(x_train[n]).convert('RGB')) #Отрисовка картинки\n",
        "plt.show() # Вывод картинки"
      ],
      "execution_count": 37,
      "outputs": [
        {
          "output_type": "error",
          "ename": "IndexError",
          "evalue": "ignored",
          "traceback": [
            "\u001b[0;31m---------------------------------------------------------------------------\u001b[0m",
            "\u001b[0;31mIndexError\u001b[0m                                Traceback (most recent call last)",
            "\u001b[0;32m<ipython-input-37-3ba94e90d1d4>\u001b[0m in \u001b[0;36m<module>\u001b[0;34m()\u001b[0m\n\u001b[1;32m      1\u001b[0m \u001b[0mn\u001b[0m \u001b[0;34m=\u001b[0m \u001b[0;36m1\u001b[0m \u001b[0;31m#Номер картинки\u001b[0m\u001b[0;34m\u001b[0m\u001b[0;34m\u001b[0m\u001b[0m\n\u001b[0;32m----> 2\u001b[0;31m \u001b[0mplt\u001b[0m\u001b[0;34m.\u001b[0m\u001b[0mimshow\u001b[0m\u001b[0;34m(\u001b[0m\u001b[0mImage\u001b[0m\u001b[0;34m.\u001b[0m\u001b[0mfromarray\u001b[0m\u001b[0;34m(\u001b[0m\u001b[0mx_train\u001b[0m\u001b[0;34m[\u001b[0m\u001b[0mn\u001b[0m\u001b[0;34m]\u001b[0m\u001b[0;34m)\u001b[0m\u001b[0;34m.\u001b[0m\u001b[0mconvert\u001b[0m\u001b[0;34m(\u001b[0m\u001b[0;34m'RGB'\u001b[0m\u001b[0;34m)\u001b[0m\u001b[0;34m)\u001b[0m \u001b[0;31m#Отрисовка картинки\u001b[0m\u001b[0;34m\u001b[0m\u001b[0;34m\u001b[0m\u001b[0m\n\u001b[0m\u001b[1;32m      3\u001b[0m \u001b[0mplt\u001b[0m\u001b[0;34m.\u001b[0m\u001b[0mshow\u001b[0m\u001b[0;34m(\u001b[0m\u001b[0;34m)\u001b[0m \u001b[0;31m# Вывод картинки\u001b[0m\u001b[0;34m\u001b[0m\u001b[0;34m\u001b[0m\u001b[0m\n",
            "\u001b[0;32m/usr/local/lib/python3.7/dist-packages/PIL/Image.py\u001b[0m in \u001b[0;36mfromarray\u001b[0;34m(obj, mode)\u001b[0m\n\u001b[1;32m   2726\u001b[0m         \u001b[0;32mraise\u001b[0m \u001b[0mValueError\u001b[0m\u001b[0;34m(\u001b[0m\u001b[0;34m\"Too many dimensions: %d > %d.\"\u001b[0m \u001b[0;34m%\u001b[0m \u001b[0;34m(\u001b[0m\u001b[0mndim\u001b[0m\u001b[0;34m,\u001b[0m \u001b[0mndmax\u001b[0m\u001b[0;34m)\u001b[0m\u001b[0;34m)\u001b[0m\u001b[0;34m\u001b[0m\u001b[0;34m\u001b[0m\u001b[0m\n\u001b[1;32m   2727\u001b[0m \u001b[0;34m\u001b[0m\u001b[0m\n\u001b[0;32m-> 2728\u001b[0;31m     \u001b[0msize\u001b[0m \u001b[0;34m=\u001b[0m \u001b[0mshape\u001b[0m\u001b[0;34m[\u001b[0m\u001b[0;36m1\u001b[0m\u001b[0;34m]\u001b[0m\u001b[0;34m,\u001b[0m \u001b[0mshape\u001b[0m\u001b[0;34m[\u001b[0m\u001b[0;36m0\u001b[0m\u001b[0;34m]\u001b[0m\u001b[0;34m\u001b[0m\u001b[0;34m\u001b[0m\u001b[0m\n\u001b[0m\u001b[1;32m   2729\u001b[0m     \u001b[0;32mif\u001b[0m \u001b[0mstrides\u001b[0m \u001b[0;32mis\u001b[0m \u001b[0;32mnot\u001b[0m \u001b[0;32mNone\u001b[0m\u001b[0;34m:\u001b[0m\u001b[0;34m\u001b[0m\u001b[0;34m\u001b[0m\u001b[0m\n\u001b[1;32m   2730\u001b[0m         \u001b[0;32mif\u001b[0m \u001b[0mhasattr\u001b[0m\u001b[0;34m(\u001b[0m\u001b[0mobj\u001b[0m\u001b[0;34m,\u001b[0m \u001b[0;34m\"tobytes\"\u001b[0m\u001b[0;34m)\u001b[0m\u001b[0;34m:\u001b[0m\u001b[0;34m\u001b[0m\u001b[0;34m\u001b[0m\u001b[0m\n",
            "\u001b[0;31mIndexError\u001b[0m: tuple index out of range"
          ]
        }
      ]
    },
    {
      "cell_type": "code",
      "metadata": {
        "colab": {
          "base_uri": "https://localhost:8080/"
        },
        "id": "egEVymfJW00f",
        "outputId": "4e06849e-2d2e-4673-94b4-aafc30a9da26"
      },
      "source": [
        "x_train = x_train.reshape(60000, 784)\n",
        "x_test = x_test.reshape(10000, 784)\n",
        "print(x_train.shape)\n",
        "print(x_train.shape)"
      ],
      "execution_count": 17,
      "outputs": [
        {
          "output_type": "stream",
          "name": "stdout",
          "text": [
            "(60000, 784)\n",
            "(60000, 784)\n"
          ]
        }
      ]
    },
    {
      "cell_type": "code",
      "metadata": {
        "colab": {
          "base_uri": "https://localhost:8080/"
        },
        "id": "1k0pjl9LXhSI",
        "outputId": "a18d555e-8478-4f96-97fe-82a65a2ffeed"
      },
      "source": [
        "(x_train, y_train), (x_test, y_test) = mnist.load_data()\n",
        "print(f\"размерность X_train: {x_train.shape}\")\n",
        "print(f\"размерность y_train: {y_train.shape}\")\n",
        "print(f\"размерность x_test: {x_test.shape}\")\n",
        "print(f\"размерность y_test: {y_test.shape}\")\n",
        "\n",
        "x_train = x_train.reshape(60000, 784)\n",
        "x_test = x_test.reshape(10000, 784)\n",
        "print(x_train.shape)\n",
        "print(x_train.shape)"
      ],
      "execution_count": 18,
      "outputs": [
        {
          "output_type": "stream",
          "name": "stdout",
          "text": [
            "размерность X_train: (60000, 28, 28)\n",
            "размерность y_train: (60000,)\n",
            "размерность x_test: (10000, 28, 28)\n",
            "размерность y_test: (10000,)\n",
            "(60000, 784)\n",
            "(60000, 784)\n"
          ]
        }
      ]
    },
    {
      "cell_type": "code",
      "metadata": {
        "id": "auGmEebNF4wo"
      },
      "source": [
        "y_train = utils.to_categorical(y_train, 10)\n",
        "y_test = utils.to_categorical(y_test, 10)"
      ],
      "execution_count": 19,
      "outputs": []
    },
    {
      "cell_type": "markdown",
      "metadata": {
        "id": "ayV1BciNGvJz"
      },
      "source": [
        "распознание"
      ]
    },
    {
      "cell_type": "code",
      "metadata": {
        "colab": {
          "base_uri": "https://localhost:8080/"
        },
        "id": "AgolB66cGyca",
        "outputId": "6e57b15a-6b0b-4ce7-97e7-8a4e29e19081"
      },
      "source": [
        "x = imgU\n",
        "print(x)\n",
        "#x = np.expand_dims(x, axis=0)\n",
        "x = x.reshape(1, 784)\n",
        "print(x.shape)\n",
        "prediction = model.predict(x) \n",
        "print(prediction) "
      ],
      "execution_count": 35,
      "outputs": [
        {
          "output_type": "stream",
          "name": "stdout",
          "text": [
            "[[255 255 255 255 255 255 255 255 255 255 255 255 255 255 255 255 255 255\n",
            "  255 255 255 255 255 255 255 255 255 251]\n",
            " [255 255 255 255 255 255 255 255 255 255 255 255 255 255 255 255 255 255\n",
            "  255 255 255 255 255 255 255 255 255 251]\n",
            " [255 255 255 255 255 255 255 255 255 255 255 255 255 255 255 255 255 255\n",
            "  255 255 255 255 255 255 255 255 255 251]\n",
            " [255 255 255 255 255 255 255 255 255 255 255 255 255 255 255 255 255 255\n",
            "  255 255 255 255 255 255 255 255 255 251]\n",
            " [255 255 255 255 255 255 255 255 255 255 255 255 255 255 255 255 255 255\n",
            "  255 255 255 255 255 255 255 255 255 251]\n",
            " [255 255 255 255 255 255 255 255 255 255 255 255 255 255 255 255 255 255\n",
            "  255 255 255 255 255 255 255 255 255 251]\n",
            " [255 255 255 255 255 255 255 255 255 255 255 255 255 255 255 255 255 255\n",
            "  255 255 255 255 255 255 255 255 255 251]\n",
            " [255 255 255 255 255 255 255 255 255 255 255 255 255 255 255 255 255 255\n",
            "  255 255 255 255 255 255 255 255 255 251]\n",
            " [254 255 255 255 255 255 255 255 255 255 255 255 255 209 188 202 226 248\n",
            "  255 255 255 255 254 255 255 255 255 251]\n",
            " [254 255 255 255 255 255 255 255 254 255 255 255 233 201 219 198 197 230\n",
            "  255 255 255 254 255 255 255 255 255 251]\n",
            " [254 255 255 255 255 255 255 255 255 254 255 255 188 204 255 254 255 255\n",
            "  254 255 254 255 255 255 255 255 255 251]\n",
            " [254 255 255 255 255 255 255 255 254 255 255 254 229 207 197 214 255 255\n",
            "  255 255 254 255 255 255 255 255 255 250]\n",
            " [254 255 255 255 255 255 255 255 255 255 255 255 255 255 242 197 206 255\n",
            "  254 255 255 255 255 255 255 255 255 249]\n",
            " [254 255 255 255 255 255 255 255 254 255 255 255 255 255 255 255 211 232\n",
            "  255 255 255 255 255 255 255 255 255 249]\n",
            " [254 255 255 255 255 255 255 255 255 255 255 255 255 255 255 255 239 223\n",
            "  255 255 255 255 255 255 255 255 255 249]\n",
            " [254 255 255 255 255 255 255 255 255 254 255 254 255 255 255 254 221 239\n",
            "  255 255 255 255 254 255 255 255 255 248]\n",
            " [253 255 255 255 255 255 255 255 255 255 236 225 255 255 232 211 221 255\n",
            "  255 255 255 255 255 255 255 255 255 248]\n",
            " [253 255 255 255 255 255 255 255 255 255 234 196 211 211 212 234 255 255\n",
            "  254 255 254 255 255 255 255 255 255 247]\n",
            " [253 255 255 255 255 255 255 255 255 255 255 255 242 245 254 255 255 254\n",
            "  255 255 255 255 255 255 255 255 255 248]\n",
            " [253 255 255 255 255 255 255 255 255 255 255 255 255 255 255 255 255 255\n",
            "  255 254 255 255 255 255 255 255 255 249]\n",
            " [253 255 255 255 255 255 255 255 255 255 255 255 255 255 255 255 255 254\n",
            "  255 255 255 255 254 255 255 255 255 249]\n",
            " [253 255 255 255 255 255 255 255 255 254 255 254 255 255 255 255 255 255\n",
            "  255 255 255 255 254 255 255 255 255 249]\n",
            " [253 255 255 255 255 255 255 255 254 255 254 255 255 255 255 255 255 255\n",
            "  255 255 254 254 255 255 255 255 255 248]\n",
            " [253 255 255 255 255 255 255 255 255 255 255 255 255 255 255 255 255 255\n",
            "  255 255 255 255 255 255 255 255 255 248]\n",
            " [253 255 255 255 255 255 255 255 255 255 255 255 255 255 255 255 255 255\n",
            "  255 255 255 255 255 255 255 255 255 248]\n",
            " [253 255 255 255 255 255 255 255 255 255 255 255 255 255 255 255 255 255\n",
            "  255 255 255 255 255 255 255 255 255 249]\n",
            " [252 255 255 255 255 255 255 255 255 255 255 255 255 255 255 255 255 255\n",
            "  255 255 255 255 255 255 255 255 255 248]\n",
            " [252 255 255 255 255 255 255 255 255 255 255 255 255 255 255 255 255 255\n",
            "  255 255 255 255 255 255 255 255 255 249]]\n",
            "(1, 784)\n",
            "[[0.0000000e+00 1.5968085e-21 1.0000000e+00 1.0678170e-23 0.0000000e+00\n",
            "  1.3654770e-31 5.6813160e-37 0.0000000e+00 0.0000000e+00 0.0000000e+00]]\n"
          ]
        }
      ]
    },
    {
      "cell_type": "code",
      "metadata": {
        "colab": {
          "base_uri": "https://localhost:8080/"
        },
        "id": "MJCLtSKPUPG_",
        "outputId": "002e2af0-60ab-49f4-9ec2-9b60fa0b0024"
      },
      "source": [
        "model.fit(x_train, y_train, batch_size=128, epochs=15, verbose=1)\n"
      ],
      "execution_count": 26,
      "outputs": [
        {
          "output_type": "stream",
          "name": "stdout",
          "text": [
            "Epoch 1/15\n",
            "469/469 [==============================] - 9s 19ms/step - loss: 20.1650 - accuracy: 0.8414\n",
            "Epoch 2/15\n",
            "469/469 [==============================] - 9s 19ms/step - loss: 4.4080 - accuracy: 0.8498\n",
            "Epoch 3/15\n",
            "469/469 [==============================] - 9s 19ms/step - loss: 3.6726 - accuracy: 0.8452\n",
            "Epoch 4/15\n",
            "469/469 [==============================] - 9s 19ms/step - loss: 2.9135 - accuracy: 0.8501\n",
            "Epoch 5/15\n",
            "469/469 [==============================] - 9s 19ms/step - loss: 2.0694 - accuracy: 0.8551\n",
            "Epoch 6/15\n",
            "469/469 [==============================] - 9s 19ms/step - loss: 1.6164 - accuracy: 0.8585\n",
            "Epoch 7/15\n",
            "469/469 [==============================] - 9s 19ms/step - loss: 1.2247 - accuracy: 0.8630\n",
            "Epoch 8/15\n",
            "469/469 [==============================] - 9s 19ms/step - loss: 0.9731 - accuracy: 0.8650\n",
            "Epoch 9/15\n",
            "469/469 [==============================] - 9s 19ms/step - loss: 0.7159 - accuracy: 0.8746\n",
            "Epoch 10/15\n",
            "469/469 [==============================] - 9s 19ms/step - loss: 0.5854 - accuracy: 0.8787\n",
            "Epoch 11/15\n",
            "469/469 [==============================] - 9s 19ms/step - loss: 0.5001 - accuracy: 0.8845\n",
            "Epoch 12/15\n",
            "469/469 [==============================] - 9s 19ms/step - loss: 0.5059 - accuracy: 0.8824\n",
            "Epoch 13/15\n",
            "469/469 [==============================] - 9s 19ms/step - loss: 0.5165 - accuracy: 0.8782\n",
            "Epoch 14/15\n",
            "469/469 [==============================] - 9s 19ms/step - loss: 0.5161 - accuracy: 0.8763\n",
            "Epoch 15/15\n",
            "469/469 [==============================] - 9s 19ms/step - loss: 0.5103 - accuracy: 0.8766\n"
          ]
        },
        {
          "output_type": "execute_result",
          "data": {
            "text/plain": [
              "<keras.callbacks.History at 0x7fccf8e6d6d0>"
            ]
          },
          "metadata": {},
          "execution_count": 26
        }
      ]
    }
  ]
}